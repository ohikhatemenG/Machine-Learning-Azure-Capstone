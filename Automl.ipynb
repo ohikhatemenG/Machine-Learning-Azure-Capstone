{
 "cells": [
  {
   "cell_type": "markdown",
   "metadata": {},
   "source": [
    "# Importing the required Libraries\n"
   ]
  },
  {
   "cell_type": "code",
   "execution_count": 2,
   "metadata": {},
   "outputs": [],
   "source": [
    "import logging\n",
    "\n",
    "from sklearn.metrics import mean_absolute_error, mean_squared_error, r2_score\n",
    "from matplotlib import pyplot as plt\n",
    "import pandas as pd\n",
    "import numpy as np\n",
    "import warnings\n",
    "import os\n",
    "\n",
    "# Squash warning messages for cleaner output in the notebook\n",
    "warnings.showwarning = lambda *args, **kwargs: None\n",
    "\n",
    "import azureml.core\n",
    "from azureml.core import Experiment, Workspace, Dataset\n",
    "from azureml.train.automl import AutoMLConfig\n",
    "from datetime import datetime\n",
    "from azureml.core.compute_target import ComputeTargetException\n",
    "from azureml.widgets import RunDetails\n",
    "from azureml.train.automl import AutoMLConfig\n",
    "\n",
    "from azureml.core.model import InferenceConfig\n",
    "from azureml.core.webservice import AciWebservice, Webservice\n",
    "from azureml.core.model import Model\n",
    "from azureml.core.environment import Environment\n",
    "ws = Workspace.from_config()"
   ]
  },
  {
   "cell_type": "code",
   "execution_count": 3,
   "metadata": {},
   "outputs": [
    {
     "name": "stdout",
     "output_type": "stream",
     "text": [
      "quick-starts-ws-136488\n",
      "aml-quickstarts-136488\n",
      "southcentralus\n",
      "6971f5ac-8af1-446e-8034-05acea24681f\n"
     ]
    }
   ],
   "source": [
    "ws = Workspace.from_config()\n",
    "print(ws.name, ws.resource_group, ws.location, ws.subscription_id, sep = '\\n')"
   ]
  },
  {
   "cell_type": "markdown",
   "metadata": {},
   "source": [
    "# Configuring the Compute Cluster"
   ]
  },
  {
   "cell_type": "code",
   "execution_count": 4,
   "metadata": {},
   "outputs": [
    {
     "name": "stdout",
     "output_type": "stream",
     "text": [
      "Creating\n",
      "Succeeded\n",
      "AmlCompute wait for completion finished\n",
      "\n",
      "Minimum number of nodes requested have been provisioned\n",
      "ampl ComputeInstance Succeeded\n",
      "cpu-cluster AmlCompute Succeeded\n"
     ]
    }
   ],
   "source": [
    "from azureml.core.compute import ComputeTarget, AmlCompute\n",
    "from azureml.core.compute_target import ComputeTargetException\n",
    "\n",
    "ws = Workspace.from_config() # this automatically looks for a directory .azureml\n",
    "\n",
    "# Choose a name for your CPU cluster\n",
    "cpu_cluster_name = \"cpu-cluster\"\n",
    "\n",
    "# Verify that cluster does not exist already\n",
    "try:\n",
    "    cpu_cluster = ComputeTarget(workspace=ws, name=cpu_cluster_name)\n",
    "    print('Found existing cluster, use it.')\n",
    "except ComputeTargetException:\n",
    "    compute_config = AmlCompute.provisioning_configuration(vm_size='STANDARD_D2_V2',\n",
    "                                                            max_nodes=4, \n",
    "                                                            idle_seconds_before_scaledown=2400,\n",
    "                                                            vm_priority='lowpriority')\n",
    "    cpu_cluster = ComputeTarget.create(ws, cpu_cluster_name, compute_config)\n",
    "\n",
    "cpu_cluster.wait_for_completion(show_output=True)\n",
    "compute_targets = ws.compute_targets\n",
    "for name, ct in compute_targets.items():\n",
    "    print(name, ct.type, ct.provisioning_state)"
   ]
  },
  {
   "cell_type": "code",
   "execution_count": 5,
   "metadata": {},
   "outputs": [],
   "source": [
    "experiment_name = 'automl-Diabetes'\n",
    "\n",
    "experiment=Experiment(ws, experiment_name)"
   ]
  },
  {
   "cell_type": "code",
   "execution_count": 6,
   "metadata": {},
   "outputs": [
    {
     "data": {
      "text/html": [
       "<table style=\"width:100%\"><tr><th>Name</th><th>Workspace</th><th>Report Page</th><th>Docs Page</th></tr><tr><td>automl-Diabetes</td><td>quick-starts-ws-136488</td><td><a href=\"https://ml.azure.com/experiments/automl-Diabetes?wsid=/subscriptions/6971f5ac-8af1-446e-8034-05acea24681f/resourcegroups/aml-quickstarts-136488/workspaces/quick-starts-ws-136488\" target=\"_blank\" rel=\"noopener\">Link to Azure Machine Learning studio</a></td><td><a href=\"https://docs.microsoft.com/en-us/python/api/azureml-core/azureml.core.experiment.Experiment?view=azure-ml-py\" target=\"_blank\" rel=\"noopener\">Link to Documentation</a></td></tr></table>"
      ],
      "text/plain": [
       "Experiment(Name: automl-Diabetes,\n",
       "Workspace: quick-starts-ws-136488)"
      ]
     },
     "execution_count": 6,
     "metadata": {},
     "output_type": "execute_result"
    }
   ],
   "source": [
    "experiment"
   ]
  },
  {
   "cell_type": "markdown",
   "metadata": {},
   "source": [
    "# Load dataset"
   ]
  },
  {
   "cell_type": "code",
   "execution_count": 7,
   "metadata": {},
   "outputs": [
    {
     "data": {
      "text/html": [
       "<div>\n",
       "<style scoped>\n",
       "    .dataframe tbody tr th:only-of-type {\n",
       "        vertical-align: middle;\n",
       "    }\n",
       "\n",
       "    .dataframe tbody tr th {\n",
       "        vertical-align: top;\n",
       "    }\n",
       "\n",
       "    .dataframe thead th {\n",
       "        text-align: right;\n",
       "    }\n",
       "</style>\n",
       "<table border=\"1\" class=\"dataframe\">\n",
       "  <thead>\n",
       "    <tr style=\"text-align: right;\">\n",
       "      <th></th>\n",
       "      <th>Pregnancies</th>\n",
       "      <th>Glucose</th>\n",
       "      <th>BloodPressure</th>\n",
       "      <th>SkinThickness</th>\n",
       "      <th>Insulin</th>\n",
       "      <th>BMI</th>\n",
       "      <th>DiabetesPedigreeFunction</th>\n",
       "      <th>Age</th>\n",
       "      <th>Outcome</th>\n",
       "    </tr>\n",
       "  </thead>\n",
       "  <tbody>\n",
       "    <tr>\n",
       "      <th>0</th>\n",
       "      <td>6</td>\n",
       "      <td>148</td>\n",
       "      <td>72</td>\n",
       "      <td>35</td>\n",
       "      <td>0</td>\n",
       "      <td>33.6</td>\n",
       "      <td>0.627</td>\n",
       "      <td>50</td>\n",
       "      <td>1</td>\n",
       "    </tr>\n",
       "    <tr>\n",
       "      <th>1</th>\n",
       "      <td>1</td>\n",
       "      <td>85</td>\n",
       "      <td>66</td>\n",
       "      <td>29</td>\n",
       "      <td>0</td>\n",
       "      <td>26.6</td>\n",
       "      <td>0.351</td>\n",
       "      <td>31</td>\n",
       "      <td>0</td>\n",
       "    </tr>\n",
       "    <tr>\n",
       "      <th>2</th>\n",
       "      <td>8</td>\n",
       "      <td>183</td>\n",
       "      <td>64</td>\n",
       "      <td>0</td>\n",
       "      <td>0</td>\n",
       "      <td>23.3</td>\n",
       "      <td>0.672</td>\n",
       "      <td>32</td>\n",
       "      <td>1</td>\n",
       "    </tr>\n",
       "    <tr>\n",
       "      <th>3</th>\n",
       "      <td>1</td>\n",
       "      <td>89</td>\n",
       "      <td>66</td>\n",
       "      <td>23</td>\n",
       "      <td>94</td>\n",
       "      <td>28.1</td>\n",
       "      <td>0.167</td>\n",
       "      <td>21</td>\n",
       "      <td>0</td>\n",
       "    </tr>\n",
       "    <tr>\n",
       "      <th>4</th>\n",
       "      <td>0</td>\n",
       "      <td>137</td>\n",
       "      <td>40</td>\n",
       "      <td>35</td>\n",
       "      <td>168</td>\n",
       "      <td>43.1</td>\n",
       "      <td>2.288</td>\n",
       "      <td>33</td>\n",
       "      <td>1</td>\n",
       "    </tr>\n",
       "  </tbody>\n",
       "</table>\n",
       "</div>"
      ],
      "text/plain": [
       "   Pregnancies  Glucose  BloodPressure  SkinThickness  Insulin   BMI  \\\n",
       "0            6      148             72             35        0  33.6   \n",
       "1            1       85             66             29        0  26.6   \n",
       "2            8      183             64              0        0  23.3   \n",
       "3            1       89             66             23       94  28.1   \n",
       "4            0      137             40             35      168  43.1   \n",
       "\n",
       "   DiabetesPedigreeFunction  Age  Outcome  \n",
       "0                     0.627   50        1  \n",
       "1                     0.351   31        0  \n",
       "2                     0.672   32        1  \n",
       "3                     0.167   21        0  \n",
       "4                     2.288   33        1  "
      ]
     },
     "execution_count": 7,
     "metadata": {},
     "output_type": "execute_result"
    }
   ],
   "source": [
    "# Try to load the dataset from he Workspace. Otherwise, create it from the file\n",
    "# NOTE: update the key to match the dataset name\n",
    "found = False\n",
    "key = \"Diabetes Dataset\"\n",
    "description_text = \"Diabetes DataSet for Capstone\"\n",
    "\n",
    "if key in ws.datasets.keys(): \n",
    "        found = True\n",
    "        dataset = ws.datasets[key] \n",
    "\n",
    "if not found:\n",
    "        # Create AML Dataset and register it into Workspace\n",
    "    example_data = 'https://raw.githubusercontent.com/ohikhatemenG/Machine-Learning-Azure-Capstone/main/diabetes.csv'\n",
    "    dataset = Dataset.Tabular.from_delimited_files(example_data)        \n",
    "        #Register Dataset in Workspace\n",
    "    dataset = dataset.register(workspace=ws,\n",
    "                                   name=key,\n",
    "                                   description=description_text)\n",
    "\n",
    "\n",
    "df = dataset.to_pandas_dataframe()\n",
    "df.head()\n"
   ]
  },
  {
   "cell_type": "markdown",
   "metadata": {},
   "source": [
    "# Auto Configuration"
   ]
  },
  {
   "cell_type": "code",
   "execution_count": 8,
   "metadata": {},
   "outputs": [],
   "source": [
    "from azureml.train.automl import AutoMLConfig\n",
    "\n",
    "\n",
    "automl_config = AutoMLConfig(\n",
    "    experiment_timeout_minutes=25,\n",
    "    debug_log = 'automl_errors.log',\n",
    "    task='classification',\n",
    "    primary_metric='accuracy',\n",
    "    training_data=dataset,\n",
    "    label_column_name='Outcome',\n",
    "    n_cross_validations=5,\n",
    "    compute_target=\"cpu-cluster\",\n",
    "    iterations=20,\n",
    "    max_concurrent_iterations=5)"
   ]
  },
  {
   "cell_type": "code",
   "execution_count": 9,
   "metadata": {},
   "outputs": [
    {
     "name": "stdout",
     "output_type": "stream",
     "text": [
      "Running on remote.\n",
      "No run_configuration provided, running on cpu-cluster with default configuration\n",
      "Running on remote compute: cpu-cluster\n",
      "Parent Run ID: AutoML_9186d3a5-e6bc-4493-ad50-2f539a39fd72\n",
      "\n",
      "Current status: FeaturesGeneration. Generating features for the dataset.\n",
      "Current status: DatasetCrossValidationSplit. Generating individually featurized CV splits.\n",
      "Current status: ModelSelection. Beginning model selection.\n",
      "\n",
      "****************************************************************************************************\n",
      "DATA GUARDRAILS: \n",
      "\n",
      "TYPE:         Class balancing detection\n",
      "STATUS:       PASSED\n",
      "DESCRIPTION:  Your inputs were analyzed, and all classes are balanced in your training data.\n",
      "              Learn more about imbalanced data: https://aka.ms/AutomatedMLImbalancedData\n",
      "\n",
      "****************************************************************************************************\n",
      "\n",
      "TYPE:         Missing feature values imputation\n",
      "STATUS:       PASSED\n",
      "DESCRIPTION:  No feature missing values were detected in the training data.\n",
      "              Learn more about missing value imputation: https://aka.ms/AutomatedMLFeaturization\n",
      "\n",
      "****************************************************************************************************\n",
      "\n",
      "TYPE:         High cardinality feature detection\n",
      "STATUS:       PASSED\n",
      "DESCRIPTION:  Your inputs were analyzed, and no high cardinality features were detected.\n",
      "              Learn more about high cardinality feature handling: https://aka.ms/AutomatedMLFeaturization\n",
      "\n",
      "****************************************************************************************************\n",
      "\n",
      "****************************************************************************************************\n",
      "ITERATION: The iteration being evaluated.\n",
      "PIPELINE: A summary description of the pipeline being evaluated.\n",
      "DURATION: Time taken for the current iteration.\n",
      "METRIC: The result of computing score on the fitted pipeline.\n",
      "BEST: The best observed score thus far.\n",
      "****************************************************************************************************\n",
      "\n",
      " ITERATION   PIPELINE                                       DURATION      METRIC      BEST\n",
      "         0   MaxAbsScaler LightGBM                          0:00:59       0.7435    0.7435\n",
      "         3   MaxAbsScaler RandomForest                      0:00:50       0.7305    0.7435\n",
      "         2   MaxAbsScaler RandomForest                      0:00:53       0.7462    0.7462\n",
      "         1   MaxAbsScaler XGBoostClassifier                 0:00:53       0.7656    0.7656\n",
      "         7   SparseNormalizer XGBoostClassifier             0:01:03       0.7189    0.7656\n",
      "         8   SparseNormalizer XGBoostClassifier             0:00:51       0.7110    0.7656\n",
      "         9   MaxAbsScaler LogisticRegression                0:00:57       0.7735    0.7735\n",
      "         4   MaxAbsScaler RandomForest                      0:03:31       0.7644    0.7735\n",
      "         5   MaxAbsScaler RandomForest                      0:03:25       0.7239    0.7735\n",
      "         6   SparseNormalizer XGBoostClassifier             0:03:31       0.7110    0.7735\n",
      "        10   SparseNormalizer XGBoostClassifier             0:00:54       0.6485    0.7735\n",
      "        11   MaxAbsScaler RandomForest                      0:00:50       0.7552    0.7735\n",
      "        12   StandardScalerWrapper RandomForest             0:00:48       0.7579    0.7735\n",
      "        13   MaxAbsScaler ExtremeRandomTrees                0:00:54       0.7409    0.7735\n",
      "        14   MaxAbsScaler LightGBM                          0:00:52       0.7397    0.7735\n",
      "        15   MaxAbsScaler RandomForest                      0:00:54       0.7605    0.7735\n",
      "        16   MaxAbsScaler ExtremeRandomTrees                0:00:56       0.7618    0.7735\n",
      "        17   MaxAbsScaler LightGBM                          0:01:03       0.7474    0.7735\n",
      "        18    VotingEnsemble                                0:01:18       0.7800    0.7800\n",
      "        19    StackEnsemble                                 0:01:24       0.7657    0.7800\n"
     ]
    }
   ],
   "source": [
    "remote_run = experiment.submit(automl_config,show_output=True)"
   ]
  },
  {
   "cell_type": "code",
   "execution_count": 10,
   "metadata": {},
   "outputs": [
    {
     "data": {
      "application/vnd.jupyter.widget-view+json": {
       "model_id": "b934a28ad7154867afa256211d4c93a7",
       "version_major": 2,
       "version_minor": 0
      },
      "text/plain": [
       "_AutoMLWidget(widget_settings={'childWidgetDisplay': 'popup', 'send_telemetry': False, 'log_level': 'INFO', 's…"
      ]
     },
     "metadata": {},
     "output_type": "display_data"
    },
    {
     "data": {
      "application/aml.mini.widget.v1": "{\"status\": \"Completed\", \"workbench_run_details_uri\": \"https://ml.azure.com/experiments/automl-Diabetes/runs/AutoML_9186d3a5-e6bc-4493-ad50-2f539a39fd72?wsid=/subscriptions/6971f5ac-8af1-446e-8034-05acea24681f/resourcegroups/aml-quickstarts-136488/workspaces/quick-starts-ws-136488\", \"run_id\": \"AutoML_9186d3a5-e6bc-4493-ad50-2f539a39fd72\", \"run_properties\": {\"run_id\": \"AutoML_9186d3a5-e6bc-4493-ad50-2f539a39fd72\", \"created_utc\": \"2021-01-29T09:11:25.426341Z\", \"properties\": {\"num_iterations\": \"20\", \"training_type\": \"TrainFull\", \"acquisition_function\": \"EI\", \"primary_metric\": \"accuracy\", \"train_split\": \"0\", \"acquisition_parameter\": \"0\", \"num_cross_validation\": \"5\", \"target\": \"cpu-cluster\", \"AMLSettingsJsonString\": \"{\\\"path\\\":null,\\\"name\\\":\\\"automl-Diabetes\\\",\\\"subscription_id\\\":\\\"6971f5ac-8af1-446e-8034-05acea24681f\\\",\\\"resource_group\\\":\\\"aml-quickstarts-136488\\\",\\\"workspace_name\\\":\\\"quick-starts-ws-136488\\\",\\\"region\\\":\\\"southcentralus\\\",\\\"compute_target\\\":\\\"cpu-cluster\\\",\\\"spark_service\\\":null,\\\"azure_service\\\":\\\"remote\\\",\\\"many_models\\\":false,\\\"pipeline_fetch_max_batch_size\\\":1,\\\"iterations\\\":20,\\\"primary_metric\\\":\\\"accuracy\\\",\\\"task_type\\\":\\\"classification\\\",\\\"data_script\\\":null,\\\"validation_size\\\":0.0,\\\"n_cross_validations\\\":5,\\\"y_min\\\":null,\\\"y_max\\\":null,\\\"num_classes\\\":null,\\\"featurization\\\":\\\"auto\\\",\\\"_ignore_package_version_incompatibilities\\\":false,\\\"is_timeseries\\\":false,\\\"max_cores_per_iteration\\\":1,\\\"max_concurrent_iterations\\\":5,\\\"iteration_timeout_minutes\\\":null,\\\"mem_in_mb\\\":null,\\\"enforce_time_on_windows\\\":false,\\\"experiment_timeout_minutes\\\":25,\\\"experiment_exit_score\\\":null,\\\"whitelist_models\\\":null,\\\"blacklist_algos\\\":[\\\"TensorFlowLinearClassifier\\\",\\\"TensorFlowDNN\\\"],\\\"supported_models\\\":[\\\"SVM\\\",\\\"LightGBM\\\",\\\"DecisionTree\\\",\\\"GradientBoosting\\\",\\\"BernoulliNaiveBayes\\\",\\\"TensorFlowDNN\\\",\\\"AveragedPerceptronClassifier\\\",\\\"XGBoostClassifier\\\",\\\"LogisticRegression\\\",\\\"SGD\\\",\\\"MultinomialNaiveBayes\\\",\\\"LinearSVM\\\",\\\"KNN\\\",\\\"TensorFlowLinearClassifier\\\",\\\"ExtremeRandomTrees\\\",\\\"RandomForest\\\"],\\\"auto_blacklist\\\":true,\\\"blacklist_samples_reached\\\":false,\\\"exclude_nan_labels\\\":true,\\\"verbosity\\\":20,\\\"_debug_log\\\":\\\"azureml_automl.log\\\",\\\"show_warnings\\\":false,\\\"model_explainability\\\":true,\\\"service_url\\\":null,\\\"sdk_url\\\":null,\\\"sdk_packages\\\":null,\\\"enable_onnx_compatible_models\\\":false,\\\"enable_split_onnx_featurizer_estimator_models\\\":false,\\\"vm_type\\\":\\\"STANDARD_D2_V2\\\",\\\"telemetry_verbosity\\\":20,\\\"send_telemetry\\\":true,\\\"enable_dnn\\\":false,\\\"scenario\\\":\\\"SDK-1.13.0\\\",\\\"environment_label\\\":null,\\\"force_text_dnn\\\":false,\\\"enable_feature_sweeping\\\":true,\\\"enable_early_stopping\\\":false,\\\"early_stopping_n_iters\\\":10,\\\"metrics\\\":null,\\\"enable_ensembling\\\":true,\\\"enable_stack_ensembling\\\":true,\\\"ensemble_iterations\\\":15,\\\"enable_tf\\\":false,\\\"enable_subsampling\\\":false,\\\"subsample_seed\\\":null,\\\"enable_nimbusml\\\":false,\\\"enable_streaming\\\":false,\\\"force_streaming\\\":false,\\\"track_child_runs\\\":true,\\\"allowed_private_models\\\":[],\\\"label_column_name\\\":\\\"Outcome\\\",\\\"weight_column_name\\\":null,\\\"cv_split_column_names\\\":null,\\\"enable_local_managed\\\":false,\\\"_local_managed_run_id\\\":null,\\\"cost_mode\\\":1,\\\"lag_length\\\":0,\\\"metric_operation\\\":\\\"maximize\\\",\\\"preprocess\\\":true}\", \"DataPrepJsonString\": \"{\\\\\\\"training_data\\\\\\\": \\\\\\\"{\\\\\\\\\\\\\\\"blocks\\\\\\\\\\\\\\\": [{\\\\\\\\\\\\\\\"id\\\\\\\\\\\\\\\": \\\\\\\\\\\\\\\"5e7a3e53-5a3e-4037-8fa4-4f94fc46c007\\\\\\\\\\\\\\\", \\\\\\\\\\\\\\\"type\\\\\\\\\\\\\\\": \\\\\\\\\\\\\\\"Microsoft.DPrep.GetFilesBlock\\\\\\\\\\\\\\\", \\\\\\\\\\\\\\\"arguments\\\\\\\\\\\\\\\": {\\\\\\\\\\\\\\\"isArchive\\\\\\\\\\\\\\\": false, \\\\\\\\\\\\\\\"path\\\\\\\\\\\\\\\": {\\\\\\\\\\\\\\\"target\\\\\\\\\\\\\\\": 4, \\\\\\\\\\\\\\\"resourceDetails\\\\\\\\\\\\\\\": [{\\\\\\\\\\\\\\\"path\\\\\\\\\\\\\\\": \\\\\\\\\\\\\\\"https://raw.githubusercontent.com/ohikhatemenG/Machine-Learning-Azure-Capstone/main/diabetes.csv\\\\\\\\\\\\\\\"}]}}, \\\\\\\\\\\\\\\"localData\\\\\\\\\\\\\\\": {}, \\\\\\\\\\\\\\\"isEnabled\\\\\\\\\\\\\\\": true, \\\\\\\\\\\\\\\"name\\\\\\\\\\\\\\\": null, \\\\\\\\\\\\\\\"annotation\\\\\\\\\\\\\\\": null}, {\\\\\\\\\\\\\\\"id\\\\\\\\\\\\\\\": \\\\\\\\\\\\\\\"84a1b62f-ed71-4e12-a717-91c898115231\\\\\\\\\\\\\\\", \\\\\\\\\\\\\\\"type\\\\\\\\\\\\\\\": \\\\\\\\\\\\\\\"Microsoft.DPrep.ParseDelimitedBlock\\\\\\\\\\\\\\\", \\\\\\\\\\\\\\\"arguments\\\\\\\\\\\\\\\": {\\\\\\\\\\\\\\\"columnHeadersMode\\\\\\\\\\\\\\\": 3, \\\\\\\\\\\\\\\"fileEncoding\\\\\\\\\\\\\\\": 0, \\\\\\\\\\\\\\\"handleQuotedLineBreaks\\\\\\\\\\\\\\\": false, \\\\\\\\\\\\\\\"preview\\\\\\\\\\\\\\\": false, \\\\\\\\\\\\\\\"separator\\\\\\\\\\\\\\\": \\\\\\\\\\\\\\\",\\\\\\\\\\\\\\\", \\\\\\\\\\\\\\\"skipRows\\\\\\\\\\\\\\\": 0, \\\\\\\\\\\\\\\"skipRowsMode\\\\\\\\\\\\\\\": 0}, \\\\\\\\\\\\\\\"localData\\\\\\\\\\\\\\\": {}, \\\\\\\\\\\\\\\"isEnabled\\\\\\\\\\\\\\\": true, \\\\\\\\\\\\\\\"name\\\\\\\\\\\\\\\": null, \\\\\\\\\\\\\\\"annotation\\\\\\\\\\\\\\\": null}, {\\\\\\\\\\\\\\\"id\\\\\\\\\\\\\\\": \\\\\\\\\\\\\\\"d684bf5e-bd83-4240-baa0-9efeb4c4037a\\\\\\\\\\\\\\\", \\\\\\\\\\\\\\\"type\\\\\\\\\\\\\\\": \\\\\\\\\\\\\\\"Microsoft.DPrep.DropColumnsBlock\\\\\\\\\\\\\\\", \\\\\\\\\\\\\\\"arguments\\\\\\\\\\\\\\\": {\\\\\\\\\\\\\\\"columns\\\\\\\\\\\\\\\": {\\\\\\\\\\\\\\\"type\\\\\\\\\\\\\\\": 0, \\\\\\\\\\\\\\\"details\\\\\\\\\\\\\\\": {\\\\\\\\\\\\\\\"selectedColumns\\\\\\\\\\\\\\\": [\\\\\\\\\\\\\\\"Path\\\\\\\\\\\\\\\"]}}}, \\\\\\\\\\\\\\\"localData\\\\\\\\\\\\\\\": {}, \\\\\\\\\\\\\\\"isEnabled\\\\\\\\\\\\\\\": true, \\\\\\\\\\\\\\\"name\\\\\\\\\\\\\\\": null, \\\\\\\\\\\\\\\"annotation\\\\\\\\\\\\\\\": null}, {\\\\\\\\\\\\\\\"id\\\\\\\\\\\\\\\": \\\\\\\\\\\\\\\"66564521-d1cc-4243-8849-a1aec11b192b\\\\\\\\\\\\\\\", \\\\\\\\\\\\\\\"type\\\\\\\\\\\\\\\": \\\\\\\\\\\\\\\"Microsoft.DPrep.SetColumnTypesBlock\\\\\\\\\\\\\\\", \\\\\\\\\\\\\\\"arguments\\\\\\\\\\\\\\\": {\\\\\\\\\\\\\\\"columnConversion\\\\\\\\\\\\\\\": [{\\\\\\\\\\\\\\\"column\\\\\\\\\\\\\\\": {\\\\\\\\\\\\\\\"type\\\\\\\\\\\\\\\": 2, \\\\\\\\\\\\\\\"details\\\\\\\\\\\\\\\": {\\\\\\\\\\\\\\\"selectedColumn\\\\\\\\\\\\\\\": \\\\\\\\\\\\\\\"Pregnancies\\\\\\\\\\\\\\\"}}, \\\\\\\\\\\\\\\"typeProperty\\\\\\\\\\\\\\\": 2}, {\\\\\\\\\\\\\\\"column\\\\\\\\\\\\\\\": {\\\\\\\\\\\\\\\"type\\\\\\\\\\\\\\\": 2, \\\\\\\\\\\\\\\"details\\\\\\\\\\\\\\\": {\\\\\\\\\\\\\\\"selectedColumn\\\\\\\\\\\\\\\": \\\\\\\\\\\\\\\"Glucose\\\\\\\\\\\\\\\"}}, \\\\\\\\\\\\\\\"typeProperty\\\\\\\\\\\\\\\": 2}, {\\\\\\\\\\\\\\\"column\\\\\\\\\\\\\\\": {\\\\\\\\\\\\\\\"type\\\\\\\\\\\\\\\": 2, \\\\\\\\\\\\\\\"details\\\\\\\\\\\\\\\": {\\\\\\\\\\\\\\\"selectedColumn\\\\\\\\\\\\\\\": \\\\\\\\\\\\\\\"BloodPressure\\\\\\\\\\\\\\\"}}, \\\\\\\\\\\\\\\"typeProperty\\\\\\\\\\\\\\\": 2}, {\\\\\\\\\\\\\\\"column\\\\\\\\\\\\\\\": {\\\\\\\\\\\\\\\"type\\\\\\\\\\\\\\\": 2, \\\\\\\\\\\\\\\"details\\\\\\\\\\\\\\\": {\\\\\\\\\\\\\\\"selectedColumn\\\\\\\\\\\\\\\": \\\\\\\\\\\\\\\"SkinThickness\\\\\\\\\\\\\\\"}}, \\\\\\\\\\\\\\\"typeProperty\\\\\\\\\\\\\\\": 2}, {\\\\\\\\\\\\\\\"column\\\\\\\\\\\\\\\": {\\\\\\\\\\\\\\\"type\\\\\\\\\\\\\\\": 2, \\\\\\\\\\\\\\\"details\\\\\\\\\\\\\\\": {\\\\\\\\\\\\\\\"selectedColumn\\\\\\\\\\\\\\\": \\\\\\\\\\\\\\\"Insulin\\\\\\\\\\\\\\\"}}, \\\\\\\\\\\\\\\"typeProperty\\\\\\\\\\\\\\\": 2}, {\\\\\\\\\\\\\\\"column\\\\\\\\\\\\\\\": {\\\\\\\\\\\\\\\"type\\\\\\\\\\\\\\\": 2, \\\\\\\\\\\\\\\"details\\\\\\\\\\\\\\\": {\\\\\\\\\\\\\\\"selectedColumn\\\\\\\\\\\\\\\": \\\\\\\\\\\\\\\"BMI\\\\\\\\\\\\\\\"}}, \\\\\\\\\\\\\\\"typeProperty\\\\\\\\\\\\\\\": 3}, {\\\\\\\\\\\\\\\"column\\\\\\\\\\\\\\\": {\\\\\\\\\\\\\\\"type\\\\\\\\\\\\\\\": 2, \\\\\\\\\\\\\\\"details\\\\\\\\\\\\\\\": {\\\\\\\\\\\\\\\"selectedColumn\\\\\\\\\\\\\\\": \\\\\\\\\\\\\\\"DiabetesPedigreeFunction\\\\\\\\\\\\\\\"}}, \\\\\\\\\\\\\\\"typeProperty\\\\\\\\\\\\\\\": 3}, {\\\\\\\\\\\\\\\"column\\\\\\\\\\\\\\\": {\\\\\\\\\\\\\\\"type\\\\\\\\\\\\\\\": 2, \\\\\\\\\\\\\\\"details\\\\\\\\\\\\\\\": {\\\\\\\\\\\\\\\"selectedColumn\\\\\\\\\\\\\\\": \\\\\\\\\\\\\\\"Age\\\\\\\\\\\\\\\"}}, \\\\\\\\\\\\\\\"typeProperty\\\\\\\\\\\\\\\": 2}, {\\\\\\\\\\\\\\\"column\\\\\\\\\\\\\\\": {\\\\\\\\\\\\\\\"type\\\\\\\\\\\\\\\": 2, \\\\\\\\\\\\\\\"details\\\\\\\\\\\\\\\": {\\\\\\\\\\\\\\\"selectedColumn\\\\\\\\\\\\\\\": \\\\\\\\\\\\\\\"Outcome\\\\\\\\\\\\\\\"}}, \\\\\\\\\\\\\\\"typeProperty\\\\\\\\\\\\\\\": 2}]}, \\\\\\\\\\\\\\\"localData\\\\\\\\\\\\\\\": {}, \\\\\\\\\\\\\\\"isEnabled\\\\\\\\\\\\\\\": true, \\\\\\\\\\\\\\\"name\\\\\\\\\\\\\\\": null, \\\\\\\\\\\\\\\"annotation\\\\\\\\\\\\\\\": null}], \\\\\\\\\\\\\\\"inspectors\\\\\\\\\\\\\\\": [], \\\\\\\\\\\\\\\"meta\\\\\\\\\\\\\\\": {\\\\\\\\\\\\\\\"savedDatasetId\\\\\\\\\\\\\\\": \\\\\\\\\\\\\\\"91004c4b-17bd-457e-be0e-50b2d159b928\\\\\\\\\\\\\\\", \\\\\\\\\\\\\\\"datasetType\\\\\\\\\\\\\\\": \\\\\\\\\\\\\\\"tabular\\\\\\\\\\\\\\\", \\\\\\\\\\\\\\\"subscriptionId\\\\\\\\\\\\\\\": \\\\\\\\\\\\\\\"6971f5ac-8af1-446e-8034-05acea24681f\\\\\\\\\\\\\\\", \\\\\\\\\\\\\\\"workspaceId\\\\\\\\\\\\\\\": \\\\\\\\\\\\\\\"5be377ac-bae5-4256-bfe9-18e494cfd2d7\\\\\\\\\\\\\\\", \\\\\\\\\\\\\\\"workspaceLocation\\\\\\\\\\\\\\\": \\\\\\\\\\\\\\\"southcentralus\\\\\\\\\\\\\\\"}}\\\\\\\", \\\\\\\"activities\\\\\\\": 0}\", \"EnableSubsampling\": \"False\", \"runTemplate\": \"AutoML\", \"azureml.runsource\": \"automl\", \"display_task_type\": \"classification\", \"dependencies_versions\": \"{\\\"azureml-widgets\\\": \\\"1.20.0\\\", \\\"azureml-train\\\": \\\"1.20.0\\\", \\\"azureml-train-restclients-hyperdrive\\\": \\\"1.20.0\\\", \\\"azureml-train-core\\\": \\\"1.20.0\\\", \\\"azureml-train-automl\\\": \\\"1.20.0\\\", \\\"azureml-train-automl-runtime\\\": \\\"1.20.0\\\", \\\"azureml-train-automl-client\\\": \\\"1.20.0\\\", \\\"azureml-tensorboard\\\": \\\"1.20.0\\\", \\\"azureml-telemetry\\\": \\\"1.20.0\\\", \\\"azureml-sdk\\\": \\\"1.20.0\\\", \\\"azureml-samples\\\": \\\"0+unknown\\\", \\\"azureml-pipeline\\\": \\\"1.20.0\\\", \\\"azureml-pipeline-steps\\\": \\\"1.20.0\\\", \\\"azureml-pipeline-core\\\": \\\"1.20.0\\\", \\\"azureml-opendatasets\\\": \\\"1.20.0\\\", \\\"azureml-model-management-sdk\\\": \\\"1.0.1b6.post1\\\", \\\"azureml-mlflow\\\": \\\"1.20.0.post1\\\", \\\"azureml-interpret\\\": \\\"1.20.0\\\", \\\"azureml-explain-model\\\": \\\"1.20.0\\\", \\\"azureml-defaults\\\": \\\"1.20.0\\\", \\\"azureml-dataset-runtime\\\": \\\"1.20.0\\\", \\\"azureml-dataprep\\\": \\\"2.7.3\\\", \\\"azureml-dataprep-rslex\\\": \\\"1.5.0\\\", \\\"azureml-dataprep-native\\\": \\\"27.0.0\\\", \\\"azureml-datadrift\\\": \\\"1.20.0\\\", \\\"azureml-core\\\": \\\"1.20.0\\\", \\\"azureml-contrib-services\\\": \\\"1.20.0\\\", \\\"azureml-contrib-server\\\": \\\"1.20.0\\\", \\\"azureml-contrib-reinforcementlearning\\\": \\\"1.20.0\\\", \\\"azureml-contrib-pipeline-steps\\\": \\\"1.20.0\\\", \\\"azureml-contrib-notebook\\\": \\\"1.20.0\\\", \\\"azureml-contrib-interpret\\\": \\\"1.20.0\\\", \\\"azureml-contrib-gbdt\\\": \\\"1.20.0\\\", \\\"azureml-contrib-fairness\\\": \\\"1.20.0\\\", \\\"azureml-contrib-dataset\\\": \\\"1.20.0\\\", \\\"azureml-cli-common\\\": \\\"1.20.0\\\", \\\"azureml-automl-runtime\\\": \\\"1.20.0\\\", \\\"azureml-automl-core\\\": \\\"1.20.0\\\", \\\"azureml-accel-models\\\": \\\"1.20.0\\\"}\", \"_aml_system_scenario_identification\": \"Remote.Parent\", \"ClientType\": \"SDK\", \"environment_cpu_name\": \"AzureML-AutoML\", \"environment_cpu_label\": \"prod\", \"environment_gpu_name\": \"AzureML-AutoML-GPU\", \"environment_gpu_label\": \"prod\", \"root_attribution\": \"automl\", \"attribution\": \"AutoML\", \"Orchestrator\": \"AutoML\", \"CancelUri\": \"https://southcentralus.experiments.azureml.net/jasmine/v1.0/subscriptions/6971f5ac-8af1-446e-8034-05acea24681f/resourceGroups/aml-quickstarts-136488/providers/Microsoft.MachineLearningServices/workspaces/quick-starts-ws-136488/experimentids/65307dac-e615-4ad3-9984-290dee5ac14a/cancel/AutoML_9186d3a5-e6bc-4493-ad50-2f539a39fd72\", \"ClientSdkVersion\": \"1.20.0.post1\", \"snapshotId\": \"00000000-0000-0000-0000-000000000000\", \"SetupRunId\": \"AutoML_9186d3a5-e6bc-4493-ad50-2f539a39fd72_setup\", \"SetupRunContainerId\": \"dcid.AutoML_9186d3a5-e6bc-4493-ad50-2f539a39fd72_setup\", \"FeaturizationRunJsonPath\": \"featurizer_container.json\", \"FeaturizationRunId\": \"AutoML_9186d3a5-e6bc-4493-ad50-2f539a39fd72_featurize\", \"ProblemInfoJsonString\": \"{\\\"dataset_num_categorical\\\": 0, \\\"is_sparse\\\": true, \\\"subsampling\\\": false, \\\"dataset_classes\\\": 2, \\\"dataset_features\\\": 24, \\\"dataset_samples\\\": 768, \\\"single_frequency_class_detected\\\": false}\", \"ModelExplainRunId\": \"AutoML_9186d3a5-e6bc-4493-ad50-2f539a39fd72_ModelExplain\"}, \"tags\": {\"model_explain_run\": \"best_run\", \"_aml_system_azureml.automlComponent\": \"AutoML\", \"pipeline_id\": \"\", \"score\": \"\", \"predicted_cost\": \"\", \"fit_time\": \"\", \"training_percent\": \"\", \"iteration\": \"\", \"run_preprocessor\": \"\", \"run_algorithm\": \"\", \"automl_best_child_run_id\": \"AutoML_9186d3a5-e6bc-4493-ad50-2f539a39fd72_18\", \"model_explain_best_run_child_id\": \"AutoML_9186d3a5-e6bc-4493-ad50-2f539a39fd72_18\"}, \"end_time_utc\": \"2021-01-29T09:32:03.42601Z\", \"status\": \"Completed\", \"log_files\": {}, \"log_groups\": [], \"run_duration\": \"0:20:37\"}, \"child_runs\": [{\"run_id\": \"AutoML_9186d3a5-e6bc-4493-ad50-2f539a39fd72_0\", \"run_number\": 5, \"metric\": null, \"status\": \"Completed\", \"run_type\": \"azureml.scriptrun\", \"training_percent\": \"100\", \"start_time\": \"2021-01-29T09:21:00.385253Z\", \"end_time\": \"2021-01-29T09:21:59.618808Z\", \"created_time\": \"2021-01-29T09:20:49.004327Z\", \"created_time_dt\": \"2021-01-29T09:20:49.004327Z\", \"duration\": \"0:01:10\", \"iteration\": \"0\", \"goal\": \"accuracy_max\", \"run_name\": \"MaxAbsScaler, LightGBM\", \"run_properties\": \"copy=True\", \"primary_metric\": 0.74352771, \"best_metric\": 0.74352771}, {\"run_id\": \"AutoML_9186d3a5-e6bc-4493-ad50-2f539a39fd72_3\", \"run_number\": 6, \"metric\": null, \"status\": \"Completed\", \"run_type\": \"azureml.scriptrun\", \"training_percent\": \"100\", \"start_time\": \"2021-01-29T09:22:05.798826Z\", \"end_time\": \"2021-01-29T09:22:55.692939Z\", \"created_time\": \"2021-01-29T09:20:49.027975Z\", \"created_time_dt\": \"2021-01-29T09:20:49.027975Z\", \"duration\": \"0:02:06\", \"iteration\": \"3\", \"goal\": \"accuracy_max\", \"run_name\": \"MaxAbsScaler, RandomForest\", \"run_properties\": \"copy=True\", \"primary_metric\": 0.73052372, \"best_metric\": 0.76563959}, {\"run_id\": \"AutoML_9186d3a5-e6bc-4493-ad50-2f539a39fd72_2\", \"run_number\": 7, \"metric\": null, \"status\": \"Completed\", \"run_type\": \"azureml.scriptrun\", \"training_percent\": \"100\", \"start_time\": \"2021-01-29T09:22:59.8584Z\", \"end_time\": \"2021-01-29T09:23:53.131474Z\", \"created_time\": \"2021-01-29T09:20:49.035837Z\", \"created_time_dt\": \"2021-01-29T09:20:49.035837Z\", \"duration\": \"0:03:04\", \"iteration\": \"2\", \"goal\": \"accuracy_max\", \"run_name\": \"MaxAbsScaler, RandomForest\", \"run_properties\": \"copy=True\", \"primary_metric\": 0.74615058, \"best_metric\": 0.76563959}, {\"run_id\": \"AutoML_9186d3a5-e6bc-4493-ad50-2f539a39fd72_4\", \"run_number\": 8, \"metric\": null, \"status\": \"Completed\", \"run_type\": \"azureml.scriptrun\", \"training_percent\": \"100\", \"start_time\": \"2021-01-29T09:24:36.330994Z\", \"end_time\": \"2021-01-29T09:28:07.124559Z\", \"created_time\": \"2021-01-29T09:20:49.045675Z\", \"created_time_dt\": \"2021-01-29T09:20:49.045675Z\", \"duration\": \"0:07:18\", \"iteration\": \"4\", \"goal\": \"accuracy_max\", \"run_name\": \"MaxAbsScaler, RandomForest\", \"run_properties\": \"copy=True\", \"primary_metric\": 0.76435786, \"best_metric\": 0.76563959}, {\"run_id\": \"AutoML_9186d3a5-e6bc-4493-ad50-2f539a39fd72_1\", \"run_number\": 9, \"metric\": null, \"status\": \"Completed\", \"run_type\": \"azureml.scriptrun\", \"training_percent\": \"100\", \"start_time\": \"2021-01-29T09:23:58.583568Z\", \"end_time\": \"2021-01-29T09:24:51.442298Z\", \"created_time\": \"2021-01-29T09:20:49.03049Z\", \"created_time_dt\": \"2021-01-29T09:20:49.03049Z\", \"duration\": \"0:04:02\", \"iteration\": \"1\", \"goal\": \"accuracy_max\", \"run_name\": \"MaxAbsScaler, XGBoostClassifier\", \"run_properties\": \"copy=True\", \"primary_metric\": 0.76563959, \"best_metric\": 0.76563959}, {\"run_id\": \"AutoML_9186d3a5-e6bc-4493-ad50-2f539a39fd72_5\", \"run_number\": 10, \"metric\": null, \"status\": \"Completed\", \"run_type\": \"azureml.scriptrun\", \"training_percent\": \"100\", \"start_time\": \"2021-01-29T09:24:36.229245Z\", \"end_time\": \"2021-01-29T09:28:00.967273Z\", \"created_time\": \"2021-01-29T09:22:01.320157Z\", \"created_time_dt\": \"2021-01-29T09:22:01.320157Z\", \"duration\": \"0:05:59\", \"iteration\": \"5\", \"goal\": \"accuracy_max\", \"run_name\": \"MaxAbsScaler, RandomForest\", \"run_properties\": \"copy=True\", \"primary_metric\": 0.72394534, \"best_metric\": 0.76563959}, {\"run_id\": \"AutoML_9186d3a5-e6bc-4493-ad50-2f539a39fd72_6\", \"run_number\": 11, \"metric\": null, \"status\": \"Completed\", \"run_type\": \"azureml.scriptrun\", \"training_percent\": \"100\", \"start_time\": \"2021-01-29T09:24:39.563627Z\", \"end_time\": \"2021-01-29T09:28:10.854594Z\", \"created_time\": \"2021-01-29T09:22:58.560766Z\", \"created_time_dt\": \"2021-01-29T09:22:58.560766Z\", \"duration\": \"0:05:12\", \"iteration\": \"6\", \"goal\": \"accuracy_max\", \"run_name\": \"SparseNormalizer, XGBoostClassifier\", \"run_properties\": \"<azureml.automl.runtime.shared.model_wrappers.SparseNormalizer object at 0x7f4812d3c780\", \"primary_metric\": 0.71099228, \"best_metric\": 0.76563959}, {\"run_id\": \"AutoML_9186d3a5-e6bc-4493-ad50-2f539a39fd72_7\", \"run_number\": 12, \"metric\": null, \"status\": \"Completed\", \"run_type\": \"azureml.scriptrun\", \"training_percent\": \"100\", \"start_time\": \"2021-01-29T09:24:51.113156Z\", \"end_time\": \"2021-01-29T09:25:54.356124Z\", \"created_time\": \"2021-01-29T09:23:55.400685Z\", \"created_time_dt\": \"2021-01-29T09:23:55.400685Z\", \"duration\": \"0:01:58\", \"iteration\": \"7\", \"goal\": \"accuracy_max\", \"run_name\": \"SparseNormalizer, XGBoostClassifier\", \"run_properties\": \"<azureml.automl.runtime.shared.model_wrappers.SparseNormalizer object at 0x7faa481d9f28\", \"primary_metric\": 0.71886088, \"best_metric\": 0.76563959}, {\"run_id\": \"AutoML_9186d3a5-e6bc-4493-ad50-2f539a39fd72_8\", \"run_number\": 13, \"metric\": null, \"status\": \"Completed\", \"run_type\": \"azureml.scriptrun\", \"training_percent\": \"100\", \"start_time\": \"2021-01-29T09:26:00.871544Z\", \"end_time\": \"2021-01-29T09:26:52.306118Z\", \"created_time\": \"2021-01-29T09:24:53.707114Z\", \"created_time_dt\": \"2021-01-29T09:24:53.707114Z\", \"duration\": \"0:01:58\", \"iteration\": \"8\", \"goal\": \"accuracy_max\", \"run_name\": \"SparseNormalizer, XGBoostClassifier\", \"run_properties\": \"<azureml.automl.runtime.shared.model_wrappers.SparseNormalizer object at 0x7f83f7e6f668\", \"primary_metric\": 0.71102623, \"best_metric\": 0.76563959}, {\"run_id\": \"AutoML_9186d3a5-e6bc-4493-ad50-2f539a39fd72_9\", \"run_number\": 14, \"metric\": null, \"status\": \"Completed\", \"run_type\": \"azureml.scriptrun\", \"training_percent\": \"100\", \"start_time\": \"2021-01-29T09:26:58.510884Z\", \"end_time\": \"2021-01-29T09:27:55.412263Z\", \"created_time\": \"2021-01-29T09:25:57.407907Z\", \"created_time_dt\": \"2021-01-29T09:25:57.407907Z\", \"duration\": \"0:01:58\", \"iteration\": \"9\", \"goal\": \"accuracy_max\", \"run_name\": \"MaxAbsScaler, LogisticRegression\", \"run_properties\": \"copy=True\", \"primary_metric\": 0.77346575, \"best_metric\": 0.77346575}, {\"run_id\": \"AutoML_9186d3a5-e6bc-4493-ad50-2f539a39fd72_10\", \"run_number\": 15, \"metric\": null, \"status\": \"Completed\", \"run_type\": \"azureml.scriptrun\", \"training_percent\": \"100\", \"start_time\": \"2021-01-29T09:27:58.15053Z\", \"end_time\": \"2021-01-29T09:28:52.515243Z\", \"created_time\": \"2021-01-29T09:26:54.47978Z\", \"created_time_dt\": \"2021-01-29T09:26:54.47978Z\", \"duration\": \"0:01:58\", \"iteration\": \"10\", \"goal\": \"accuracy_max\", \"run_name\": \"SparseNormalizer, XGBoostClassifier\", \"run_properties\": \"<azureml.automl.runtime.shared.model_wrappers.SparseNormalizer object at 0x7ff01edc0588\", \"primary_metric\": 0.64846787, \"best_metric\": 0.77346575}, {\"run_id\": \"AutoML_9186d3a5-e6bc-4493-ad50-2f539a39fd72_11\", \"run_number\": 16, \"metric\": null, \"status\": \"Completed\", \"run_type\": \"azureml.scriptrun\", \"training_percent\": \"100\", \"start_time\": \"2021-01-29T09:28:08.335555Z\", \"end_time\": \"2021-01-29T09:28:58.726147Z\", \"created_time\": \"2021-01-29T09:27:57.470267Z\", \"created_time_dt\": \"2021-01-29T09:27:57.470267Z\", \"duration\": \"0:01:01\", \"iteration\": \"11\", \"goal\": \"accuracy_max\", \"run_name\": \"MaxAbsScaler, RandomForest\", \"run_properties\": \"copy=True\", \"primary_metric\": 0.75524998, \"best_metric\": 0.77346575}, {\"run_id\": \"AutoML_9186d3a5-e6bc-4493-ad50-2f539a39fd72_12\", \"run_number\": 17, \"metric\": null, \"status\": \"Completed\", \"run_type\": \"azureml.scriptrun\", \"training_percent\": \"100\", \"start_time\": \"2021-01-29T09:28:14.011506Z\", \"end_time\": \"2021-01-29T09:29:01.73531Z\", \"created_time\": \"2021-01-29T09:28:02.739555Z\", \"created_time_dt\": \"2021-01-29T09:28:02.739555Z\", \"duration\": \"0:00:58\", \"iteration\": \"12\", \"goal\": \"accuracy_max\", \"run_name\": \"StandardScalerWrapper, RandomForest\", \"run_properties\": \"<azureml.automl.runtime.shared.model_wrappers.StandardScalerWrapper object at 0x7fc24c10a128\", \"primary_metric\": 0.75785587, \"best_metric\": 0.77346575}, {\"run_id\": \"AutoML_9186d3a5-e6bc-4493-ad50-2f539a39fd72_13\", \"run_number\": 18, \"metric\": null, \"status\": \"Completed\", \"run_type\": \"azureml.scriptrun\", \"training_percent\": \"100\", \"start_time\": \"2021-01-29T09:28:20.64904Z\", \"end_time\": \"2021-01-29T09:29:15.044575Z\", \"created_time\": \"2021-01-29T09:28:08.792382Z\", \"created_time_dt\": \"2021-01-29T09:28:08.792382Z\", \"duration\": \"0:01:06\", \"iteration\": \"13\", \"goal\": \"accuracy_max\", \"run_name\": \"MaxAbsScaler, ExtremeRandomTrees\", \"run_properties\": \"copy=True\", \"primary_metric\": 0.74094729, \"best_metric\": 0.77346575}, {\"run_id\": \"AutoML_9186d3a5-e6bc-4493-ad50-2f539a39fd72_14\", \"run_number\": 19, \"metric\": null, \"status\": \"Completed\", \"run_type\": \"azureml.scriptrun\", \"training_percent\": \"100\", \"start_time\": \"2021-01-29T09:28:58.805075Z\", \"end_time\": \"2021-01-29T09:29:50.895394Z\", \"created_time\": \"2021-01-29T09:28:13.907645Z\", \"created_time_dt\": \"2021-01-29T09:28:13.907645Z\", \"duration\": \"0:01:36\", \"iteration\": \"14\", \"goal\": \"accuracy_max\", \"run_name\": \"MaxAbsScaler, LightGBM\", \"run_properties\": \"copy=True\", \"primary_metric\": 0.73969103, \"best_metric\": 0.77346575}, {\"run_id\": \"AutoML_9186d3a5-e6bc-4493-ad50-2f539a39fd72_15\", \"run_number\": 20, \"metric\": null, \"status\": \"Completed\", \"run_type\": \"azureml.scriptrun\", \"training_percent\": \"100\", \"start_time\": \"2021-01-29T09:29:06.853992Z\", \"end_time\": \"2021-01-29T09:30:00.384108Z\", \"created_time\": \"2021-01-29T09:28:55.403445Z\", \"created_time_dt\": \"2021-01-29T09:28:55.403445Z\", \"duration\": \"0:01:04\", \"iteration\": \"15\", \"goal\": \"accuracy_max\", \"run_name\": \"MaxAbsScaler, RandomForest\", \"run_properties\": \"copy=True\", \"primary_metric\": 0.76046176, \"best_metric\": 0.77346575}, {\"run_id\": \"AutoML_9186d3a5-e6bc-4493-ad50-2f539a39fd72_16\", \"run_number\": 21, \"metric\": null, \"status\": \"Completed\", \"run_type\": \"azureml.scriptrun\", \"training_percent\": \"100\", \"start_time\": \"2021-01-29T09:29:11.82611Z\", \"end_time\": \"2021-01-29T09:30:08.015064Z\", \"created_time\": \"2021-01-29T09:29:01.553278Z\", \"created_time_dt\": \"2021-01-29T09:29:01.553278Z\", \"duration\": \"0:01:06\", \"iteration\": \"16\", \"goal\": \"accuracy_max\", \"run_name\": \"MaxAbsScaler, ExtremeRandomTrees\", \"run_properties\": \"copy=True\", \"primary_metric\": 0.7618029, \"best_metric\": 0.77346575}, {\"run_id\": \"AutoML_9186d3a5-e6bc-4493-ad50-2f539a39fd72_17\", \"run_number\": 22, \"metric\": null, \"status\": \"Completed\", \"run_type\": \"azureml.scriptrun\", \"training_percent\": \"100\", \"start_time\": \"2021-01-29T09:29:18.457389Z\", \"end_time\": \"2021-01-29T09:30:21.777514Z\", \"created_time\": \"2021-01-29T09:29:06.288064Z\", \"created_time_dt\": \"2021-01-29T09:29:06.288064Z\", \"duration\": \"0:01:15\", \"iteration\": \"17\", \"goal\": \"accuracy_max\", \"run_name\": \"MaxAbsScaler, LightGBM\", \"run_properties\": \"copy=True\", \"primary_metric\": 0.74740684, \"best_metric\": 0.77346575}, {\"run_id\": \"AutoML_9186d3a5-e6bc-4493-ad50-2f539a39fd72_19\", \"run_number\": 23, \"metric\": null, \"status\": \"Completed\", \"run_type\": \"azureml.scriptrun\", \"training_percent\": \"100\", \"start_time\": \"2021-01-29T09:30:34.598408Z\", \"end_time\": \"2021-01-29T09:31:59.031341Z\", \"created_time\": \"2021-01-29T09:30:23.783907Z\", \"created_time_dt\": \"2021-01-29T09:30:23.783907Z\", \"duration\": \"0:01:35\", \"iteration\": \"19\", \"goal\": \"accuracy_max\", \"run_name\": \"StackEnsemble\", \"run_properties\": \"base_learners=[('9',\\n                                        Pipeline(memory=None,\\n                                                 steps=[('maxabsscaler',\\n                                                         MaxAbsScaler(copy=True\", \"primary_metric\": 0.76565657, \"best_metric\": 0.7800017}, {\"run_id\": \"AutoML_9186d3a5-e6bc-4493-ad50-2f539a39fd72_18\", \"run_number\": 24, \"metric\": null, \"status\": \"Completed\", \"run_type\": \"azureml.scriptrun\", \"training_percent\": \"100\", \"start_time\": \"2021-01-29T09:30:35.281659Z\", \"end_time\": \"2021-01-29T09:31:53.662Z\", \"created_time\": \"2021-01-29T09:30:24.001888Z\", \"created_time_dt\": \"2021-01-29T09:30:24.001888Z\", \"duration\": \"0:01:29\", \"iteration\": \"18\", \"goal\": \"accuracy_max\", \"run_name\": \"VotingEnsemble\", \"run_properties\": \"classification_labels=None,\\n                              estimators=[('9',\\n                                           Pipeline(memory=None,\\n                                                    steps=[('maxabsscaler',\\n                                                            MaxAbsScaler(copy=True\", \"primary_metric\": 0.7800017, \"best_metric\": 0.7800017}], \"children_metrics\": {\"categories\": [0], \"series\": {\"log_loss\": [{\"categories\": [\"0\", \"1\", \"2\", \"3\", \"4\", \"5\", \"6\", \"7\", \"8\", \"9\", \"10\", \"11\", \"12\", \"13\", \"14\", \"15\", \"16\", \"17\", \"18\", \"19\"], \"mode\": \"markers\", \"name\": \"log_loss\", \"stepped\": false, \"type\": \"scatter\", \"data\": [0.62702930996628, 0.48040462908306597, 0.5071506836590961, 0.5255161726542099, 0.5037129739916637, 0.5694480814445797, 0.5699835090350747, 0.5429842329358994, 0.554407651698379, 0.49408064664925144, 0.6129305394703799, 0.48091348132426426, 0.4942469210330593, 0.5327232476758146, 0.5252082796251064, 0.48870628800714544, 0.5090936021603738, 0.5170969785506008, 0.4908542653698181, 0.4811034849520085]}, {\"categories\": [\"0\", \"1\", \"2\", \"3\", \"4\", \"5\", \"6\", \"7\", \"8\", \"9\", \"10\", \"11\", \"12\", \"13\", \"14\", \"15\", \"16\", \"17\", \"18\", \"19\"], \"mode\": \"lines\", \"name\": \"log_loss_min\", \"stepped\": true, \"type\": \"scatter\", \"data\": [0.62702930996628, 0.48040462908306597, 0.48040462908306597, 0.48040462908306597, 0.48040462908306597, 0.48040462908306597, 0.48040462908306597, 0.48040462908306597, 0.48040462908306597, 0.48040462908306597, 0.48040462908306597, 0.48040462908306597, 0.48040462908306597, 0.48040462908306597, 0.48040462908306597, 0.48040462908306597, 0.48040462908306597, 0.48040462908306597, 0.48040462908306597, 0.48040462908306597]}], \"recall_score_macro\": [{\"categories\": [\"0\", \"1\", \"2\", \"3\", \"4\", \"5\", \"6\", \"7\", \"8\", \"9\", \"10\", \"11\", \"12\", \"13\", \"14\", \"15\", \"16\", \"17\", \"18\", \"19\"], \"mode\": \"markers\", \"name\": \"recall_score_macro\", \"stepped\": false, \"type\": \"scatter\", \"data\": [0.7104731774264245, 0.7333555620308326, 0.6817155565588648, 0.6592845693282816, 0.7614112105046351, 0.7408623014677372, 0.6400423628222572, 0.6659595592025392, 0.6515131463515089, 0.7200474239079281, 0.5438204909451553, 0.7020272990586941, 0.6931125626835948, 0.6557669340132862, 0.6595848133343803, 0.7084261616813523, 0.6903228352235067, 0.669449533468897, 0.7281377463905998, 0.7132480576227296]}, {\"categories\": [\"0\", \"1\", \"2\", \"3\", \"4\", \"5\", \"6\", \"7\", \"8\", \"9\", \"10\", \"11\", \"12\", \"13\", \"14\", \"15\", \"16\", \"17\", \"18\", \"19\"], \"mode\": \"lines\", \"name\": \"recall_score_macro_max\", \"stepped\": true, \"type\": \"scatter\", \"data\": [0.7104731774264245, 0.7333555620308326, 0.7333555620308326, 0.7333555620308326, 0.7614112105046351, 0.7614112105046351, 0.7614112105046351, 0.7614112105046351, 0.7614112105046351, 0.7614112105046351, 0.7614112105046351, 0.7614112105046351, 0.7614112105046351, 0.7614112105046351, 0.7614112105046351, 0.7614112105046351, 0.7614112105046351, 0.7614112105046351, 0.7614112105046351, 0.7614112105046351]}], \"f1_score_weighted\": [{\"categories\": [\"0\", \"1\", \"2\", \"3\", \"4\", \"5\", \"6\", \"7\", \"8\", \"9\", \"10\", \"11\", \"12\", \"13\", \"14\", \"15\", \"16\", \"17\", \"18\", \"19\"], \"mode\": \"markers\", \"name\": \"f1_score_weighted\", \"stepped\": false, \"type\": \"scatter\", \"data\": [0.7417695202219394, 0.7642691151373454, 0.7326281873459702, 0.7090241634194067, 0.7682175616955753, 0.7308437822880098, 0.6904996933405456, 0.7084351228263952, 0.6983345257108604, 0.7642552782495947, 0.57560877087662, 0.7466883374807104, 0.7431764780759893, 0.7120632063960832, 0.7139882034697592, 0.7521043833075922, 0.7434424143873241, 0.7263033197713257, 0.7718241080479311, 0.7573749944173386]}, {\"categories\": [\"0\", \"1\", \"2\", \"3\", \"4\", \"5\", \"6\", \"7\", \"8\", \"9\", \"10\", \"11\", \"12\", \"13\", \"14\", \"15\", \"16\", \"17\", \"18\", \"19\"], \"mode\": \"lines\", \"name\": \"f1_score_weighted_max\", \"stepped\": true, \"type\": \"scatter\", \"data\": [0.7417695202219394, 0.7642691151373454, 0.7642691151373454, 0.7642691151373454, 0.7682175616955753, 0.7682175616955753, 0.7682175616955753, 0.7682175616955753, 0.7682175616955753, 0.7682175616955753, 0.7682175616955753, 0.7682175616955753, 0.7682175616955753, 0.7682175616955753, 0.7682175616955753, 0.7682175616955753, 0.7682175616955753, 0.7682175616955753, 0.7718241080479311, 0.7718241080479311]}], \"balanced_accuracy\": [{\"categories\": [\"0\", \"1\", \"2\", \"3\", \"4\", \"5\", \"6\", \"7\", \"8\", \"9\", \"10\", \"11\", \"12\", \"13\", \"14\", \"15\", \"16\", \"17\", \"18\", \"19\"], \"mode\": \"markers\", \"name\": \"balanced_accuracy\", \"stepped\": false, \"type\": \"scatter\", \"data\": [0.7104731774264245, 0.7333555620308326, 0.6817155565588648, 0.6592845693282816, 0.7614112105046351, 0.7408623014677372, 0.6400423628222572, 0.6659595592025392, 0.6515131463515089, 0.7200474239079281, 0.5438204909451553, 0.7020272990586941, 0.6931125626835948, 0.6557669340132862, 0.6595848133343803, 0.7084261616813523, 0.6903228352235067, 0.669449533468897, 0.7281377463905998, 0.7132480576227296]}, {\"categories\": [\"0\", \"1\", \"2\", \"3\", \"4\", \"5\", \"6\", \"7\", \"8\", \"9\", \"10\", \"11\", \"12\", \"13\", \"14\", \"15\", \"16\", \"17\", \"18\", \"19\"], \"mode\": \"lines\", \"name\": \"balanced_accuracy_max\", \"stepped\": true, \"type\": \"scatter\", \"data\": [0.7104731774264245, 0.7333555620308326, 0.7333555620308326, 0.7333555620308326, 0.7614112105046351, 0.7614112105046351, 0.7614112105046351, 0.7614112105046351, 0.7614112105046351, 0.7614112105046351, 0.7614112105046351, 0.7614112105046351, 0.7614112105046351, 0.7614112105046351, 0.7614112105046351, 0.7614112105046351, 0.7614112105046351, 0.7614112105046351, 0.7614112105046351, 0.7614112105046351]}], \"precision_score_micro\": [{\"categories\": [\"0\", \"1\", \"2\", \"3\", \"4\", \"5\", \"6\", \"7\", \"8\", \"9\", \"10\", \"11\", \"12\", \"13\", \"14\", \"15\", \"16\", \"17\", \"18\", \"19\"], \"mode\": \"markers\", \"name\": \"precision_score_micro\", \"stepped\": false, \"type\": \"scatter\", \"data\": [0.7435277141159494, 0.7656395891690009, 0.746150581444699, 0.7305237246413717, 0.7643578643578642, 0.7239453357100416, 0.710992275698158, 0.718860877684407, 0.7110262286732875, 0.7734657499363381, 0.6484678719972838, 0.7552499787793906, 0.7578558696205755, 0.7409472880061114, 0.739691027926322, 0.7604617604617605, 0.7618029029793736, 0.7474068415244887, 0.7800016976487564, 0.7656565656565657]}, {\"categories\": [\"0\", \"1\", \"2\", \"3\", \"4\", \"5\", \"6\", \"7\", \"8\", \"9\", \"10\", \"11\", \"12\", \"13\", \"14\", \"15\", \"16\", \"17\", \"18\", \"19\"], \"mode\": \"lines\", \"name\": \"precision_score_micro_max\", \"stepped\": true, \"type\": \"scatter\", \"data\": [0.7435277141159494, 0.7656395891690009, 0.7656395891690009, 0.7656395891690009, 0.7656395891690009, 0.7656395891690009, 0.7656395891690009, 0.7656395891690009, 0.7656395891690009, 0.7734657499363381, 0.7734657499363381, 0.7734657499363381, 0.7734657499363381, 0.7734657499363381, 0.7734657499363381, 0.7734657499363381, 0.7734657499363381, 0.7734657499363381, 0.7800016976487564, 0.7800016976487564]}], \"matthews_correlation\": [{\"categories\": [\"0\", \"1\", \"2\", \"3\", \"4\", \"5\", \"6\", \"7\", \"8\", \"9\", \"10\", \"11\", \"12\", \"13\", \"14\", \"15\", \"16\", \"17\", \"18\", \"19\"], \"mode\": \"markers\", \"name\": \"matthews_correlation\", \"stepped\": false, \"type\": \"scatter\", \"data\": [0.4246377532584085, 0.4736437134256053, 0.40282698460734656, 0.3733647655251779, 0.5042555332229895, 0.4567972891479727, 0.3213433607522145, 0.3536736003429463, 0.3296689207197475, 0.4793606496369078, 0.10804772018981312, 0.43342075788534656, 0.4327439813154563, 0.39551198081219824, 0.38764536246337844, 0.447063458173386, 0.44544552302225915, 0.3992591464532271, 0.49194891090103976, 0.4547077222095156]}, {\"categories\": [\"0\", \"1\", \"2\", \"3\", \"4\", \"5\", \"6\", \"7\", \"8\", \"9\", \"10\", \"11\", \"12\", \"13\", \"14\", \"15\", \"16\", \"17\", \"18\", \"19\"], \"mode\": \"lines\", \"name\": \"matthews_correlation_max\", \"stepped\": true, \"type\": \"scatter\", \"data\": [0.4246377532584085, 0.4736437134256053, 0.4736437134256053, 0.4736437134256053, 0.5042555332229895, 0.5042555332229895, 0.5042555332229895, 0.5042555332229895, 0.5042555332229895, 0.5042555332229895, 0.5042555332229895, 0.5042555332229895, 0.5042555332229895, 0.5042555332229895, 0.5042555332229895, 0.5042555332229895, 0.5042555332229895, 0.5042555332229895, 0.5042555332229895, 0.5042555332229895]}], \"f1_score_macro\": [{\"categories\": [\"0\", \"1\", \"2\", \"3\", \"4\", \"5\", \"6\", \"7\", \"8\", \"9\", \"10\", \"11\", \"12\", \"13\", \"14\", \"15\", \"16\", \"17\", \"18\", \"19\"], \"mode\": \"markers\", \"name\": \"f1_score_macro\", \"stepped\": false, \"type\": \"scatter\", \"data\": [0.7110567297826602, 0.7345738794182582, 0.6904807142231523, 0.6626481030622806, 0.747596466283093, 0.7134741612138713, 0.6417459671340231, 0.6695423199560285, 0.6557501423243692, 0.7292638254255784, 0.4955795022259055, 0.71053094750073, 0.7024093698234892, 0.6610372699480369, 0.665451562542969, 0.7170467043701452, 0.7008802738190317, 0.6773310328489138, 0.738303501457884, 0.720761134573187]}, {\"categories\": [\"0\", \"1\", \"2\", \"3\", \"4\", \"5\", \"6\", \"7\", \"8\", \"9\", \"10\", \"11\", \"12\", \"13\", \"14\", \"15\", \"16\", \"17\", \"18\", \"19\"], \"mode\": \"lines\", \"name\": \"f1_score_macro_max\", \"stepped\": true, \"type\": \"scatter\", \"data\": [0.7110567297826602, 0.7345738794182582, 0.7345738794182582, 0.7345738794182582, 0.747596466283093, 0.747596466283093, 0.747596466283093, 0.747596466283093, 0.747596466283093, 0.747596466283093, 0.747596466283093, 0.747596466283093, 0.747596466283093, 0.747596466283093, 0.747596466283093, 0.747596466283093, 0.747596466283093, 0.747596466283093, 0.747596466283093, 0.747596466283093]}], \"average_precision_score_micro\": [{\"categories\": [\"0\", \"1\", \"2\", \"3\", \"4\", \"5\", \"6\", \"7\", \"8\", \"9\", \"10\", \"11\", \"12\", \"13\", \"14\", \"15\", \"16\", \"17\", \"18\", \"19\"], \"mode\": \"markers\", \"name\": \"average_precision_score_micro\", \"stepped\": false, \"type\": \"scatter\", \"data\": [0.8327853787564277, 0.8532463783590838, 0.8364708440457107, 0.8280075259074826, 0.838477380820936, 0.8039550606943033, 0.768236859954323, 0.8035091285138671, 0.7841739193583097, 0.835677354636803, 0.727791529370266, 0.8510522643840686, 0.848334073053198, 0.8293839751888864, 0.8384209143885648, 0.8495986829868386, 0.8441846028995494, 0.8442146391925178, 0.8588928855013261, 0.854011454126181]}, {\"categories\": [\"0\", \"1\", \"2\", \"3\", \"4\", \"5\", \"6\", \"7\", \"8\", \"9\", \"10\", \"11\", \"12\", \"13\", \"14\", \"15\", \"16\", \"17\", \"18\", \"19\"], \"mode\": \"lines\", \"name\": \"average_precision_score_micro_max\", \"stepped\": true, \"type\": \"scatter\", \"data\": [0.8327853787564277, 0.8532463783590838, 0.8532463783590838, 0.8532463783590838, 0.8532463783590838, 0.8532463783590838, 0.8532463783590838, 0.8532463783590838, 0.8532463783590838, 0.8532463783590838, 0.8532463783590838, 0.8532463783590838, 0.8532463783590838, 0.8532463783590838, 0.8532463783590838, 0.8532463783590838, 0.8532463783590838, 0.8532463783590838, 0.8588928855013261, 0.8588928855013261]}], \"AUC_weighted\": [{\"categories\": [\"0\", \"1\", \"2\", \"3\", \"4\", \"5\", \"6\", \"7\", \"8\", \"9\", \"10\", \"11\", \"12\", \"13\", \"14\", \"15\", \"16\", \"17\", \"18\", \"19\"], \"mode\": \"markers\", \"name\": \"AUC_weighted\", \"stepped\": false, \"type\": \"scatter\", \"data\": [0.8062007971845107, 0.8324149004567104, 0.812201129586857, 0.8135785161892404, 0.829775798420749, 0.8141259609388282, 0.7263654065574304, 0.7660757757340357, 0.750158214052964, 0.8156856038619551, 0.6971397124948764, 0.8296604676852406, 0.8306617448312092, 0.8219455419660606, 0.8309154177275222, 0.8287913219195921, 0.8288136683628912, 0.8293667821011453, 0.8403974122623354, 0.8372805932225896]}, {\"categories\": [\"0\", \"1\", \"2\", \"3\", \"4\", \"5\", \"6\", \"7\", \"8\", \"9\", \"10\", \"11\", \"12\", \"13\", \"14\", \"15\", \"16\", \"17\", \"18\", \"19\"], \"mode\": \"lines\", \"name\": \"AUC_weighted_max\", \"stepped\": true, \"type\": \"scatter\", \"data\": [0.8062007971845107, 0.8324149004567104, 0.8324149004567104, 0.8324149004567104, 0.8324149004567104, 0.8324149004567104, 0.8324149004567104, 0.8324149004567104, 0.8324149004567104, 0.8324149004567104, 0.8324149004567104, 0.8324149004567104, 0.8324149004567104, 0.8324149004567104, 0.8324149004567104, 0.8324149004567104, 0.8324149004567104, 0.8324149004567104, 0.8403974122623354, 0.8403974122623354]}], \"recall_score_micro\": [{\"categories\": [\"0\", \"1\", \"2\", \"3\", \"4\", \"5\", \"6\", \"7\", \"8\", \"9\", \"10\", \"11\", \"12\", \"13\", \"14\", \"15\", \"16\", \"17\", \"18\", \"19\"], \"mode\": \"markers\", \"name\": \"recall_score_micro\", \"stepped\": false, \"type\": \"scatter\", \"data\": [0.7435277141159494, 0.7656395891690009, 0.746150581444699, 0.7305237246413717, 0.7643578643578642, 0.7239453357100416, 0.710992275698158, 0.718860877684407, 0.7110262286732875, 0.7734657499363381, 0.6484678719972838, 0.7552499787793906, 0.7578558696205755, 0.7409472880061114, 0.739691027926322, 0.7604617604617605, 0.7618029029793736, 0.7474068415244887, 0.7800016976487564, 0.7656565656565657]}, {\"categories\": [\"0\", \"1\", \"2\", \"3\", \"4\", \"5\", \"6\", \"7\", \"8\", \"9\", \"10\", \"11\", \"12\", \"13\", \"14\", \"15\", \"16\", \"17\", \"18\", \"19\"], \"mode\": \"lines\", \"name\": \"recall_score_micro_max\", \"stepped\": true, \"type\": \"scatter\", \"data\": [0.7435277141159494, 0.7656395891690009, 0.7656395891690009, 0.7656395891690009, 0.7656395891690009, 0.7656395891690009, 0.7656395891690009, 0.7656395891690009, 0.7656395891690009, 0.7734657499363381, 0.7734657499363381, 0.7734657499363381, 0.7734657499363381, 0.7734657499363381, 0.7734657499363381, 0.7734657499363381, 0.7734657499363381, 0.7734657499363381, 0.7800016976487564, 0.7800016976487564]}], \"average_precision_score_macro\": [{\"categories\": [\"0\", \"1\", \"2\", \"3\", \"4\", \"5\", \"6\", \"7\", \"8\", \"9\", \"10\", \"11\", \"12\", \"13\", \"14\", \"15\", \"16\", \"17\", \"18\", \"19\"], \"mode\": \"markers\", \"name\": \"average_precision_score_macro\", \"stepped\": false, \"type\": \"scatter\", \"data\": [0.7848257443237637, 0.8102231075585553, 0.7912199809392256, 0.7814280111334146, 0.8021271037355762, 0.7845196521965108, 0.7140585907931032, 0.7543822265332896, 0.7317267872368305, 0.799419379041958, 0.657615829876303, 0.808869504382981, 0.804148137359667, 0.8020533974900645, 0.8050874115373354, 0.8077158126089452, 0.80654233000595, 0.8055460327710318, 0.8179797838999889, 0.8149540018020364]}, {\"categories\": [\"0\", \"1\", \"2\", \"3\", \"4\", \"5\", \"6\", \"7\", \"8\", \"9\", \"10\", \"11\", \"12\", \"13\", \"14\", \"15\", \"16\", \"17\", \"18\", \"19\"], \"mode\": \"lines\", \"name\": \"average_precision_score_macro_max\", \"stepped\": true, \"type\": \"scatter\", \"data\": [0.7848257443237637, 0.8102231075585553, 0.8102231075585553, 0.8102231075585553, 0.8102231075585553, 0.8102231075585553, 0.8102231075585553, 0.8102231075585553, 0.8102231075585553, 0.8102231075585553, 0.8102231075585553, 0.8102231075585553, 0.8102231075585553, 0.8102231075585553, 0.8102231075585553, 0.8102231075585553, 0.8102231075585553, 0.8102231075585553, 0.8179797838999889, 0.8179797838999889]}], \"accuracy\": [{\"categories\": [\"0\", \"1\", \"2\", \"3\", \"4\", \"5\", \"6\", \"7\", \"8\", \"9\", \"10\", \"11\", \"12\", \"13\", \"14\", \"15\", \"16\", \"17\", \"18\", \"19\"], \"mode\": \"markers\", \"name\": \"accuracy\", \"stepped\": false, \"type\": \"scatter\", \"data\": [0.7435277141159494, 0.7656395891690009, 0.746150581444699, 0.7305237246413717, 0.7643578643578642, 0.7239453357100416, 0.710992275698158, 0.718860877684407, 0.7110262286732875, 0.7734657499363381, 0.6484678719972838, 0.7552499787793906, 0.7578558696205755, 0.7409472880061114, 0.739691027926322, 0.7604617604617605, 0.7618029029793736, 0.7474068415244887, 0.7800016976487564, 0.7656565656565657]}, {\"categories\": [\"0\", \"1\", \"2\", \"3\", \"4\", \"5\", \"6\", \"7\", \"8\", \"9\", \"10\", \"11\", \"12\", \"13\", \"14\", \"15\", \"16\", \"17\", \"18\", \"19\"], \"mode\": \"lines\", \"name\": \"accuracy_max\", \"stepped\": true, \"type\": \"scatter\", \"data\": [0.7435277141159494, 0.7656395891690009, 0.7656395891690009, 0.7656395891690009, 0.7656395891690009, 0.7656395891690009, 0.7656395891690009, 0.7656395891690009, 0.7656395891690009, 0.7734657499363381, 0.7734657499363381, 0.7734657499363381, 0.7734657499363381, 0.7734657499363381, 0.7734657499363381, 0.7734657499363381, 0.7734657499363381, 0.7734657499363381, 0.7800016976487564, 0.7800016976487564]}], \"average_precision_score_weighted\": [{\"categories\": [\"0\", \"1\", \"2\", \"3\", \"4\", \"5\", \"6\", \"7\", \"8\", \"9\", \"10\", \"11\", \"12\", \"13\", \"14\", \"15\", \"16\", \"17\", \"18\", \"19\"], \"mode\": \"markers\", \"name\": \"average_precision_score_weighted\", \"stepped\": false, \"type\": \"scatter\", \"data\": [0.8183229088104544, 0.8410481501195661, 0.8236402589918617, 0.8186190376086959, 0.8341285803110466, 0.8190812466736679, 0.751693748623928, 0.7880625636552105, 0.767257478177501, 0.8278187449825554, 0.7026049990417864, 0.8379126001459823, 0.8377198741036626, 0.8342927048357867, 0.8366563187023367, 0.8376470300469816, 0.8386863086634957, 0.8390655714193421, 0.8474792362578182, 0.8439877708189106]}, {\"categories\": [\"0\", \"1\", \"2\", \"3\", \"4\", \"5\", \"6\", \"7\", \"8\", \"9\", \"10\", \"11\", \"12\", \"13\", \"14\", \"15\", \"16\", \"17\", \"18\", \"19\"], \"mode\": \"lines\", \"name\": \"average_precision_score_weighted_max\", \"stepped\": true, \"type\": \"scatter\", \"data\": [0.8183229088104544, 0.8410481501195661, 0.8410481501195661, 0.8410481501195661, 0.8410481501195661, 0.8410481501195661, 0.8410481501195661, 0.8410481501195661, 0.8410481501195661, 0.8410481501195661, 0.8410481501195661, 0.8410481501195661, 0.8410481501195661, 0.8410481501195661, 0.8410481501195661, 0.8410481501195661, 0.8410481501195661, 0.8410481501195661, 0.8474792362578182, 0.8474792362578182]}], \"precision_score_macro\": [{\"categories\": [\"0\", \"1\", \"2\", \"3\", \"4\", \"5\", \"6\", \"7\", \"8\", \"9\", \"10\", \"11\", \"12\", \"13\", \"14\", \"15\", \"16\", \"17\", \"18\", \"19\"], \"mode\": \"markers\", \"name\": \"precision_score_macro\", \"stepped\": false, \"type\": \"scatter\", \"data\": [0.7143475727069413, 0.7406688342517045, 0.723531383591615, 0.7200369871911698, 0.743568796318085, 0.7170476292646656, 0.685215910465564, 0.6888042471539706, 0.6796406069772238, 0.7617190373018219, 0.5497013636174286, 0.7324708202349223, 0.7429423154737467, 0.7515390660265225, 0.7359653122476005, 0.7397885718674434, 0.7608771767439853, 0.7357082751165097, 0.7653206849559245, 0.7427878189549766]}, {\"categories\": [\"0\", \"1\", \"2\", \"3\", \"4\", \"5\", \"6\", \"7\", \"8\", \"9\", \"10\", \"11\", \"12\", \"13\", \"14\", \"15\", \"16\", \"17\", \"18\", \"19\"], \"mode\": \"lines\", \"name\": \"precision_score_macro_max\", \"stepped\": true, \"type\": \"scatter\", \"data\": [0.7143475727069413, 0.7406688342517045, 0.7406688342517045, 0.7406688342517045, 0.743568796318085, 0.743568796318085, 0.743568796318085, 0.743568796318085, 0.743568796318085, 0.7617190373018219, 0.7617190373018219, 0.7617190373018219, 0.7617190373018219, 0.7617190373018219, 0.7617190373018219, 0.7617190373018219, 0.7617190373018219, 0.7617190373018219, 0.7653206849559245, 0.7653206849559245]}], \"recall_score_weighted\": [{\"categories\": [\"0\", \"1\", \"2\", \"3\", \"4\", \"5\", \"6\", \"7\", \"8\", \"9\", \"10\", \"11\", \"12\", \"13\", \"14\", \"15\", \"16\", \"17\", \"18\", \"19\"], \"mode\": \"markers\", \"name\": \"recall_score_weighted\", \"stepped\": false, \"type\": \"scatter\", \"data\": [0.7435277141159494, 0.7656395891690009, 0.746150581444699, 0.7305237246413717, 0.7643578643578642, 0.7239453357100416, 0.710992275698158, 0.718860877684407, 0.7110262286732875, 0.7734657499363381, 0.6484678719972838, 0.7552499787793906, 0.7578558696205755, 0.7409472880061114, 0.739691027926322, 0.7604617604617605, 0.7618029029793736, 0.7474068415244887, 0.7800016976487564, 0.7656565656565657]}, {\"categories\": [\"0\", \"1\", \"2\", \"3\", \"4\", \"5\", \"6\", \"7\", \"8\", \"9\", \"10\", \"11\", \"12\", \"13\", \"14\", \"15\", \"16\", \"17\", \"18\", \"19\"], \"mode\": \"lines\", \"name\": \"recall_score_weighted_max\", \"stepped\": true, \"type\": \"scatter\", \"data\": [0.7435277141159494, 0.7656395891690009, 0.7656395891690009, 0.7656395891690009, 0.7656395891690009, 0.7656395891690009, 0.7656395891690009, 0.7656395891690009, 0.7656395891690009, 0.7734657499363381, 0.7734657499363381, 0.7734657499363381, 0.7734657499363381, 0.7734657499363381, 0.7734657499363381, 0.7734657499363381, 0.7734657499363381, 0.7734657499363381, 0.7800016976487564, 0.7800016976487564]}], \"norm_macro_recall\": [{\"categories\": [\"0\", \"1\", \"2\", \"3\", \"4\", \"5\", \"6\", \"7\", \"8\", \"9\", \"10\", \"11\", \"12\", \"13\", \"14\", \"15\", \"16\", \"17\", \"18\", \"19\"], \"mode\": \"markers\", \"name\": \"norm_macro_recall\", \"stepped\": false, \"type\": \"scatter\", \"data\": [0.420946354852849, 0.4667111240616652, 0.36343111311772974, 0.31856913865656333, 0.52282242100927, 0.48172460293547453, 0.2800847256445145, 0.33191911840507854, 0.3030262927030176, 0.4400948478158561, 0.08972431522364399, 0.4040545981173881, 0.3862251253671895, 0.31153386802657224, 0.3191696266687607, 0.4168523233627047, 0.38064567044701353, 0.33889906693779404, 0.4562754927811996, 0.42649611524545944]}, {\"categories\": [\"0\", \"1\", \"2\", \"3\", \"4\", \"5\", \"6\", \"7\", \"8\", \"9\", \"10\", \"11\", \"12\", \"13\", \"14\", \"15\", \"16\", \"17\", \"18\", \"19\"], \"mode\": \"lines\", \"name\": \"norm_macro_recall_max\", \"stepped\": true, \"type\": \"scatter\", \"data\": [0.420946354852849, 0.4667111240616652, 0.4667111240616652, 0.4667111240616652, 0.52282242100927, 0.52282242100927, 0.52282242100927, 0.52282242100927, 0.52282242100927, 0.52282242100927, 0.52282242100927, 0.52282242100927, 0.52282242100927, 0.52282242100927, 0.52282242100927, 0.52282242100927, 0.52282242100927, 0.52282242100927, 0.52282242100927, 0.52282242100927]}], \"precision_score_weighted\": [{\"categories\": [\"0\", \"1\", \"2\", \"3\", \"4\", \"5\", \"6\", \"7\", \"8\", \"9\", \"10\", \"11\", \"12\", \"13\", \"14\", \"15\", \"16\", \"17\", \"18\", \"19\"], \"mode\": \"markers\", \"name\": \"precision_score_weighted\", \"stepped\": false, \"type\": \"scatter\", \"data\": [0.7422913189086859, 0.7669645066030578, 0.7387677972060007, 0.7330018396165576, 0.7796235246471539, 0.7641178087095801, 0.7053840454819122, 0.7115161895977773, 0.7024304162613891, 0.7746618750670422, 0.5918911276357762, 0.7494633974491614, 0.7540572643485811, 0.7526431608756298, 0.7409019394825045, 0.7557190237509757, 0.765801599188638, 0.7462394955403763, 0.7778659949667599, 0.7611718034517353]}, {\"categories\": [\"0\", \"1\", \"2\", \"3\", \"4\", \"5\", \"6\", \"7\", \"8\", \"9\", \"10\", \"11\", \"12\", \"13\", \"14\", \"15\", \"16\", \"17\", \"18\", \"19\"], \"mode\": \"lines\", \"name\": \"precision_score_weighted_max\", \"stepped\": true, \"type\": \"scatter\", \"data\": [0.7422913189086859, 0.7669645066030578, 0.7669645066030578, 0.7669645066030578, 0.7796235246471539, 0.7796235246471539, 0.7796235246471539, 0.7796235246471539, 0.7796235246471539, 0.7796235246471539, 0.7796235246471539, 0.7796235246471539, 0.7796235246471539, 0.7796235246471539, 0.7796235246471539, 0.7796235246471539, 0.7796235246471539, 0.7796235246471539, 0.7796235246471539, 0.7796235246471539]}], \"f1_score_micro\": [{\"categories\": [\"0\", \"1\", \"2\", \"3\", \"4\", \"5\", \"6\", \"7\", \"8\", \"9\", \"10\", \"11\", \"12\", \"13\", \"14\", \"15\", \"16\", \"17\", \"18\", \"19\"], \"mode\": \"markers\", \"name\": \"f1_score_micro\", \"stepped\": false, \"type\": \"scatter\", \"data\": [0.7435277141159494, 0.7656395891690009, 0.746150581444699, 0.7305237246413717, 0.7643578643578642, 0.7239453357100416, 0.710992275698158, 0.718860877684407, 0.7110262286732875, 0.7734657499363381, 0.6484678719972838, 0.7552499787793906, 0.7578558696205755, 0.7409472880061114, 0.739691027926322, 0.7604617604617604, 0.7618029029793736, 0.7474068415244886, 0.7800016976487564, 0.7656565656565657]}, {\"categories\": [\"0\", \"1\", \"2\", \"3\", \"4\", \"5\", \"6\", \"7\", \"8\", \"9\", \"10\", \"11\", \"12\", \"13\", \"14\", \"15\", \"16\", \"17\", \"18\", \"19\"], \"mode\": \"lines\", \"name\": \"f1_score_micro_max\", \"stepped\": true, \"type\": \"scatter\", \"data\": [0.7435277141159494, 0.7656395891690009, 0.7656395891690009, 0.7656395891690009, 0.7656395891690009, 0.7656395891690009, 0.7656395891690009, 0.7656395891690009, 0.7656395891690009, 0.7734657499363381, 0.7734657499363381, 0.7734657499363381, 0.7734657499363381, 0.7734657499363381, 0.7734657499363381, 0.7734657499363381, 0.7734657499363381, 0.7734657499363381, 0.7800016976487564, 0.7800016976487564]}], \"weighted_accuracy\": [{\"categories\": [\"0\", \"1\", \"2\", \"3\", \"4\", \"5\", \"6\", \"7\", \"8\", \"9\", \"10\", \"11\", \"12\", \"13\", \"14\", \"15\", \"16\", \"17\", \"18\", \"19\"], \"mode\": \"markers\", \"name\": \"weighted_accuracy\", \"stepped\": false, \"type\": \"scatter\", \"data\": [0.7692349431628938, 0.7906595742312594, 0.79537830939085, 0.7880162708615213, 0.7674809127981848, 0.7118523485584994, 0.767695522933375, 0.7611297202652938, 0.7579924122975384, 0.8155073689725623, 0.7347270245101865, 0.7963838045582426, 0.8080304270200763, 0.8083244219380411, 0.8028191532186497, 0.800918957403862, 0.8179665773819256, 0.807476535700738, 0.8202911311749773, 0.8054598613030499]}, {\"categories\": [\"0\", \"1\", \"2\", \"3\", \"4\", \"5\", \"6\", \"7\", \"8\", \"9\", \"10\", \"11\", \"12\", \"13\", \"14\", \"15\", \"16\", \"17\", \"18\", \"19\"], \"mode\": \"lines\", \"name\": \"weighted_accuracy_max\", \"stepped\": true, \"type\": \"scatter\", \"data\": [0.7692349431628938, 0.7906595742312594, 0.79537830939085, 0.79537830939085, 0.79537830939085, 0.79537830939085, 0.79537830939085, 0.79537830939085, 0.79537830939085, 0.8155073689725623, 0.8155073689725623, 0.8155073689725623, 0.8155073689725623, 0.8155073689725623, 0.8155073689725623, 0.8155073689725623, 0.8179665773819256, 0.8179665773819256, 0.8202911311749773, 0.8202911311749773]}], \"AUC_macro\": [{\"categories\": [\"0\", \"1\", \"2\", \"3\", \"4\", \"5\", \"6\", \"7\", \"8\", \"9\", \"10\", \"11\", \"12\", \"13\", \"14\", \"15\", \"16\", \"17\", \"18\", \"19\"], \"mode\": \"markers\", \"name\": \"AUC_macro\", \"stepped\": false, \"type\": \"scatter\", \"data\": [0.8062007971845107, 0.8324149004567104, 0.812201129586857, 0.8135785161892404, 0.829775798420749, 0.8141259609388282, 0.7263654065574304, 0.7660757757340357, 0.750158214052964, 0.815685603861955, 0.6971397124948764, 0.8296604676852406, 0.830661744831209, 0.8219455419660606, 0.8309154177275222, 0.8287913219195921, 0.8288136683628912, 0.8293667821011453, 0.8403974122623354, 0.8372805932225896]}, {\"categories\": [\"0\", \"1\", \"2\", \"3\", \"4\", \"5\", \"6\", \"7\", \"8\", \"9\", \"10\", \"11\", \"12\", \"13\", \"14\", \"15\", \"16\", \"17\", \"18\", \"19\"], \"mode\": \"lines\", \"name\": \"AUC_macro_max\", \"stepped\": true, \"type\": \"scatter\", \"data\": [0.8062007971845107, 0.8324149004567104, 0.8324149004567104, 0.8324149004567104, 0.8324149004567104, 0.8324149004567104, 0.8324149004567104, 0.8324149004567104, 0.8324149004567104, 0.8324149004567104, 0.8324149004567104, 0.8324149004567104, 0.8324149004567104, 0.8324149004567104, 0.8324149004567104, 0.8324149004567104, 0.8324149004567104, 0.8324149004567104, 0.8403974122623354, 0.8403974122623354]}], \"AUC_micro\": [{\"categories\": [\"0\", \"1\", \"2\", \"3\", \"4\", \"5\", \"6\", \"7\", \"8\", \"9\", \"10\", \"11\", \"12\", \"13\", \"14\", \"15\", \"16\", \"17\", \"18\", \"19\"], \"mode\": \"markers\", \"name\": \"AUC_micro\", \"stepped\": false, \"type\": \"scatter\", \"data\": [0.8308010717565983, 0.8534052480172104, 0.834516070783091, 0.8224089783557421, 0.8387100161370297, 0.8041858541072131, 0.7710314237868574, 0.8008986208502378, 0.7864944562603305, 0.8419989072710055, 0.7397627788399069, 0.8509457330889647, 0.8445771480957747, 0.822440886543854, 0.8341286441654929, 0.8481847835552954, 0.8394947665592822, 0.8378389156126989, 0.8574814329484111, 0.8553006820041977]}, {\"categories\": [\"0\", \"1\", \"2\", \"3\", \"4\", \"5\", \"6\", \"7\", \"8\", \"9\", \"10\", \"11\", \"12\", \"13\", \"14\", \"15\", \"16\", \"17\", \"18\", \"19\"], \"mode\": \"lines\", \"name\": \"AUC_micro_max\", \"stepped\": true, \"type\": \"scatter\", \"data\": [0.8308010717565983, 0.8534052480172104, 0.8534052480172104, 0.8534052480172104, 0.8534052480172104, 0.8534052480172104, 0.8534052480172104, 0.8534052480172104, 0.8534052480172104, 0.8534052480172104, 0.8534052480172104, 0.8534052480172104, 0.8534052480172104, 0.8534052480172104, 0.8534052480172104, 0.8534052480172104, 0.8534052480172104, 0.8534052480172104, 0.8574814329484111, 0.8574814329484111]}]}, \"metricName\": null, \"primaryMetricName\": \"accuracy\", \"showLegend\": false}, \"run_metrics\": [{\"name\": \"experiment_status\", \"run_id\": \"AutoML_9186d3a5-e6bc-4493-ad50-2f539a39fd72\", \"categories\": [0, 1, 2, 3, 4, 5, 6, 7, 8, 9, 10, 11, 12, 13], \"series\": [{\"data\": [\"DatasetEvaluation\", \"FeaturesGeneration\", \"DatasetFeaturization\", \"DatasetFeaturizationCompleted\", \"DatasetCrossValidationSplit\", \"ModelSelection\", \"BestRunExplainModel\", \"ModelExplanationDataSetSetup\", \"PickSurrogateModel\", \"EngineeredFeatureExplanations\", \"EngineeredFeatureExplanations\", \"RawFeaturesExplanations\", \"RawFeaturesExplanations\", \"BestRunExplainModel\"]}]}, {\"name\": \"experiment_status_description\", \"run_id\": \"AutoML_9186d3a5-e6bc-4493-ad50-2f539a39fd72\", \"categories\": [0, 1, 2, 3, 4, 5, 6, 7, 8, 9, 10, 11, 12, 13], \"series\": [{\"data\": [\"Gathering dataset statistics.\", \"Generating features for the dataset.\", \"Beginning to fit featurizers and featurize the dataset.\", \"Completed fit featurizers and featurizing the dataset.\", \"Generating individually featurized CV splits.\", \"Beginning model selection.\", \"Best run model explanations started\", \"Model explanations data setup completed\", \"Choosing LightGBM as the surrogate model for explanations\", \"Computation of engineered features started\", \"Computation of engineered features completed\", \"Computation of raw features started\", \"Computation of raw features completed\", \"Best run model explanations completed\"]}]}, {\"name\": \"f1_score_macro\", \"run_id\": \"AutoML_9186d3a5-e6bc-4493-ad50-2f539a39fd72\", \"categories\": [0], \"series\": [{\"data\": [0.738303501457884]}]}, {\"name\": \"recall_score_weighted\", \"run_id\": \"AutoML_9186d3a5-e6bc-4493-ad50-2f539a39fd72\", \"categories\": [0], \"series\": [{\"data\": [0.7800016976487564]}]}, {\"name\": \"f1_score_weighted\", \"run_id\": \"AutoML_9186d3a5-e6bc-4493-ad50-2f539a39fd72\", \"categories\": [0], \"series\": [{\"data\": [0.7718241080479311]}]}, {\"name\": \"weighted_accuracy\", \"run_id\": \"AutoML_9186d3a5-e6bc-4493-ad50-2f539a39fd72\", \"categories\": [0], \"series\": [{\"data\": [0.8202911311749773]}]}, {\"name\": \"average_precision_score_weighted\", \"run_id\": \"AutoML_9186d3a5-e6bc-4493-ad50-2f539a39fd72\", \"categories\": [0], \"series\": [{\"data\": [0.8474792362578182]}]}, {\"name\": \"precision_score_micro\", \"run_id\": \"AutoML_9186d3a5-e6bc-4493-ad50-2f539a39fd72\", \"categories\": [0], \"series\": [{\"data\": [0.7800016976487564]}]}, {\"name\": \"average_precision_score_micro\", \"run_id\": \"AutoML_9186d3a5-e6bc-4493-ad50-2f539a39fd72\", \"categories\": [0], \"series\": [{\"data\": [0.8588928855013261]}]}, {\"name\": \"norm_macro_recall\", \"run_id\": \"AutoML_9186d3a5-e6bc-4493-ad50-2f539a39fd72\", \"categories\": [0], \"series\": [{\"data\": [0.4562754927811996]}]}, {\"name\": \"recall_score_micro\", \"run_id\": \"AutoML_9186d3a5-e6bc-4493-ad50-2f539a39fd72\", \"categories\": [0], \"series\": [{\"data\": [0.7800016976487564]}]}, {\"name\": \"AUC_micro\", \"run_id\": \"AutoML_9186d3a5-e6bc-4493-ad50-2f539a39fd72\", \"categories\": [0], \"series\": [{\"data\": [0.8574814329484111]}]}, {\"name\": \"f1_score_micro\", \"run_id\": \"AutoML_9186d3a5-e6bc-4493-ad50-2f539a39fd72\", \"categories\": [0], \"series\": [{\"data\": [0.7800016976487564]}]}, {\"name\": \"accuracy\", \"run_id\": \"AutoML_9186d3a5-e6bc-4493-ad50-2f539a39fd72\", \"categories\": [0], \"series\": [{\"data\": [0.7800016976487564]}]}, {\"name\": \"precision_score_weighted\", \"run_id\": \"AutoML_9186d3a5-e6bc-4493-ad50-2f539a39fd72\", \"categories\": [0], \"series\": [{\"data\": [0.7778659949667599]}]}, {\"name\": \"recall_score_macro\", \"run_id\": \"AutoML_9186d3a5-e6bc-4493-ad50-2f539a39fd72\", \"categories\": [0], \"series\": [{\"data\": [0.7281377463905998]}]}, {\"name\": \"AUC_weighted\", \"run_id\": \"AutoML_9186d3a5-e6bc-4493-ad50-2f539a39fd72\", \"categories\": [0], \"series\": [{\"data\": [0.8403974122623354]}]}, {\"name\": \"log_loss\", \"run_id\": \"AutoML_9186d3a5-e6bc-4493-ad50-2f539a39fd72\", \"categories\": [0], \"series\": [{\"data\": [0.4908542653698181]}]}, {\"name\": \"AUC_macro\", \"run_id\": \"AutoML_9186d3a5-e6bc-4493-ad50-2f539a39fd72\", \"categories\": [0], \"series\": [{\"data\": [0.8403974122623354]}]}, {\"name\": \"average_precision_score_macro\", \"run_id\": \"AutoML_9186d3a5-e6bc-4493-ad50-2f539a39fd72\", \"categories\": [0], \"series\": [{\"data\": [0.8179797838999889]}]}, {\"name\": \"balanced_accuracy\", \"run_id\": \"AutoML_9186d3a5-e6bc-4493-ad50-2f539a39fd72\", \"categories\": [0], \"series\": [{\"data\": [0.7281377463905998]}]}, {\"name\": \"precision_score_macro\", \"run_id\": \"AutoML_9186d3a5-e6bc-4493-ad50-2f539a39fd72\", \"categories\": [0], \"series\": [{\"data\": [0.7653206849559245]}]}, {\"name\": \"matthews_correlation\", \"run_id\": \"AutoML_9186d3a5-e6bc-4493-ad50-2f539a39fd72\", \"categories\": [0], \"series\": [{\"data\": [0.49194891090103976]}]}], \"run_logs\": \"\\nRun is completed.\", \"graph\": {}, \"widget_settings\": {\"childWidgetDisplay\": \"popup\", \"send_telemetry\": false, \"log_level\": \"INFO\", \"sdk_version\": \"1.20.0\"}, \"loading\": false}"
     },
     "metadata": {},
     "output_type": "display_data"
    }
   ],
   "source": [
    "from azureml.widgets import RunDetails\n",
    "RunDetails(remote_run).show()"
   ]
  },
  {
   "cell_type": "code",
   "execution_count": 11,
   "metadata": {},
   "outputs": [
    {
     "name": "stdout",
     "output_type": "stream",
     "text": [
      "\n",
      "\n",
      "****************************************************************************************************\n",
      "DATA GUARDRAILS: \n",
      "\n",
      "TYPE:         Class balancing detection\n",
      "STATUS:       PASSED\n",
      "DESCRIPTION:  Your inputs were analyzed, and all classes are balanced in your training data.\n",
      "              Learn more about imbalanced data: https://aka.ms/AutomatedMLImbalancedData\n",
      "\n",
      "****************************************************************************************************\n",
      "\n",
      "TYPE:         Missing feature values imputation\n",
      "STATUS:       PASSED\n",
      "DESCRIPTION:  No feature missing values were detected in the training data.\n",
      "              Learn more about missing value imputation: https://aka.ms/AutomatedMLFeaturization\n",
      "\n",
      "****************************************************************************************************\n",
      "\n",
      "TYPE:         High cardinality feature detection\n",
      "STATUS:       PASSED\n",
      "DESCRIPTION:  Your inputs were analyzed, and no high cardinality features were detected.\n",
      "              Learn more about high cardinality feature handling: https://aka.ms/AutomatedMLFeaturization\n",
      "\n",
      "****************************************************************************************************\n",
      "\n",
      "****************************************************************************************************\n",
      "ITERATION: The iteration being evaluated.\n",
      "PIPELINE: A summary description of the pipeline being evaluated.\n",
      "DURATION: Time taken for the current iteration.\n",
      "METRIC: The result of computing score on the fitted pipeline.\n",
      "BEST: The best observed score thus far.\n",
      "****************************************************************************************************\n",
      "\n",
      " ITERATION   PIPELINE                                       DURATION      METRIC      BEST\n",
      "         0   MaxAbsScaler LightGBM                          0:00:59       0.7435    0.7435\n",
      "         1   MaxAbsScaler XGBoostClassifier                 0:00:53       0.7656    0.7656\n",
      "         2   MaxAbsScaler RandomForest                      0:00:53       0.7462    0.7656\n",
      "         3   MaxAbsScaler RandomForest                      0:00:50       0.7305    0.7656\n",
      "         4   MaxAbsScaler RandomForest                      0:03:31       0.7644    0.7656\n",
      "         5   MaxAbsScaler RandomForest                      0:03:25       0.7239    0.7656\n",
      "         6   SparseNormalizer XGBoostClassifier             0:03:31       0.7110    0.7656\n",
      "         7   SparseNormalizer XGBoostClassifier             0:01:03       0.7189    0.7656\n",
      "         8   SparseNormalizer XGBoostClassifier             0:00:51       0.7110    0.7656\n",
      "         9   MaxAbsScaler LogisticRegression                0:00:57       0.7735    0.7735\n",
      "        10   SparseNormalizer XGBoostClassifier             0:00:54       0.6485    0.7735\n",
      "        11   MaxAbsScaler RandomForest                      0:00:50       0.7552    0.7735\n",
      "        12   StandardScalerWrapper RandomForest             0:00:48       0.7579    0.7735\n",
      "        13   MaxAbsScaler ExtremeRandomTrees                0:00:54       0.7409    0.7735\n",
      "        14   MaxAbsScaler LightGBM                          0:00:52       0.7397    0.7735\n",
      "        15   MaxAbsScaler RandomForest                      0:00:54       0.7605    0.7735\n",
      "        16   MaxAbsScaler ExtremeRandomTrees                0:00:56       0.7618    0.7735\n",
      "        17   MaxAbsScaler LightGBM                          0:01:03       0.7474    0.7735\n",
      "        18    VotingEnsemble                                0:01:18       0.7800    0.7800\n",
      "        19    StackEnsemble                                 0:01:24       0.7657    0.7800\n"
     ]
    },
    {
     "data": {
      "text/plain": [
       "{'runId': 'AutoML_9186d3a5-e6bc-4493-ad50-2f539a39fd72',\n",
       " 'target': 'cpu-cluster',\n",
       " 'status': 'Completed',\n",
       " 'startTimeUtc': '2021-01-29T09:11:47.276237Z',\n",
       " 'endTimeUtc': '2021-01-29T09:32:03.42601Z',\n",
       " 'properties': {'num_iterations': '20',\n",
       "  'training_type': 'TrainFull',\n",
       "  'acquisition_function': 'EI',\n",
       "  'primary_metric': 'accuracy',\n",
       "  'train_split': '0',\n",
       "  'acquisition_parameter': '0',\n",
       "  'num_cross_validation': '5',\n",
       "  'target': 'cpu-cluster',\n",
       "  'AMLSettingsJsonString': '{\"path\":null,\"name\":\"automl-Diabetes\",\"subscription_id\":\"6971f5ac-8af1-446e-8034-05acea24681f\",\"resource_group\":\"aml-quickstarts-136488\",\"workspace_name\":\"quick-starts-ws-136488\",\"region\":\"southcentralus\",\"compute_target\":\"cpu-cluster\",\"spark_service\":null,\"azure_service\":\"remote\",\"many_models\":false,\"pipeline_fetch_max_batch_size\":1,\"iterations\":20,\"primary_metric\":\"accuracy\",\"task_type\":\"classification\",\"data_script\":null,\"validation_size\":0.0,\"n_cross_validations\":5,\"y_min\":null,\"y_max\":null,\"num_classes\":null,\"featurization\":\"auto\",\"_ignore_package_version_incompatibilities\":false,\"is_timeseries\":false,\"max_cores_per_iteration\":1,\"max_concurrent_iterations\":5,\"iteration_timeout_minutes\":null,\"mem_in_mb\":null,\"enforce_time_on_windows\":false,\"experiment_timeout_minutes\":25,\"experiment_exit_score\":null,\"whitelist_models\":null,\"blacklist_algos\":[\"TensorFlowLinearClassifier\",\"TensorFlowDNN\"],\"supported_models\":[\"SVM\",\"LightGBM\",\"DecisionTree\",\"GradientBoosting\",\"BernoulliNaiveBayes\",\"TensorFlowDNN\",\"AveragedPerceptronClassifier\",\"XGBoostClassifier\",\"LogisticRegression\",\"SGD\",\"MultinomialNaiveBayes\",\"LinearSVM\",\"KNN\",\"TensorFlowLinearClassifier\",\"ExtremeRandomTrees\",\"RandomForest\"],\"auto_blacklist\":true,\"blacklist_samples_reached\":false,\"exclude_nan_labels\":true,\"verbosity\":20,\"_debug_log\":\"azureml_automl.log\",\"show_warnings\":false,\"model_explainability\":true,\"service_url\":null,\"sdk_url\":null,\"sdk_packages\":null,\"enable_onnx_compatible_models\":false,\"enable_split_onnx_featurizer_estimator_models\":false,\"vm_type\":\"STANDARD_D2_V2\",\"telemetry_verbosity\":20,\"send_telemetry\":true,\"enable_dnn\":false,\"scenario\":\"SDK-1.13.0\",\"environment_label\":null,\"force_text_dnn\":false,\"enable_feature_sweeping\":true,\"enable_early_stopping\":false,\"early_stopping_n_iters\":10,\"metrics\":null,\"enable_ensembling\":true,\"enable_stack_ensembling\":true,\"ensemble_iterations\":15,\"enable_tf\":false,\"enable_subsampling\":false,\"subsample_seed\":null,\"enable_nimbusml\":false,\"enable_streaming\":false,\"force_streaming\":false,\"track_child_runs\":true,\"allowed_private_models\":[],\"label_column_name\":\"Outcome\",\"weight_column_name\":null,\"cv_split_column_names\":null,\"enable_local_managed\":false,\"_local_managed_run_id\":null,\"cost_mode\":1,\"lag_length\":0,\"metric_operation\":\"maximize\",\"preprocess\":true}',\n",
       "  'DataPrepJsonString': '{\\\\\"training_data\\\\\": \\\\\"{\\\\\\\\\\\\\"blocks\\\\\\\\\\\\\": [{\\\\\\\\\\\\\"id\\\\\\\\\\\\\": \\\\\\\\\\\\\"5e7a3e53-5a3e-4037-8fa4-4f94fc46c007\\\\\\\\\\\\\", \\\\\\\\\\\\\"type\\\\\\\\\\\\\": \\\\\\\\\\\\\"Microsoft.DPrep.GetFilesBlock\\\\\\\\\\\\\", \\\\\\\\\\\\\"arguments\\\\\\\\\\\\\": {\\\\\\\\\\\\\"isArchive\\\\\\\\\\\\\": false, \\\\\\\\\\\\\"path\\\\\\\\\\\\\": {\\\\\\\\\\\\\"target\\\\\\\\\\\\\": 4, \\\\\\\\\\\\\"resourceDetails\\\\\\\\\\\\\": [{\\\\\\\\\\\\\"path\\\\\\\\\\\\\": \\\\\\\\\\\\\"https://raw.githubusercontent.com/ohikhatemenG/Machine-Learning-Azure-Capstone/main/diabetes.csv\\\\\\\\\\\\\"}]}}, \\\\\\\\\\\\\"localData\\\\\\\\\\\\\": {}, \\\\\\\\\\\\\"isEnabled\\\\\\\\\\\\\": true, \\\\\\\\\\\\\"name\\\\\\\\\\\\\": null, \\\\\\\\\\\\\"annotation\\\\\\\\\\\\\": null}, {\\\\\\\\\\\\\"id\\\\\\\\\\\\\": \\\\\\\\\\\\\"84a1b62f-ed71-4e12-a717-91c898115231\\\\\\\\\\\\\", \\\\\\\\\\\\\"type\\\\\\\\\\\\\": \\\\\\\\\\\\\"Microsoft.DPrep.ParseDelimitedBlock\\\\\\\\\\\\\", \\\\\\\\\\\\\"arguments\\\\\\\\\\\\\": {\\\\\\\\\\\\\"columnHeadersMode\\\\\\\\\\\\\": 3, \\\\\\\\\\\\\"fileEncoding\\\\\\\\\\\\\": 0, \\\\\\\\\\\\\"handleQuotedLineBreaks\\\\\\\\\\\\\": false, \\\\\\\\\\\\\"preview\\\\\\\\\\\\\": false, \\\\\\\\\\\\\"separator\\\\\\\\\\\\\": \\\\\\\\\\\\\",\\\\\\\\\\\\\", \\\\\\\\\\\\\"skipRows\\\\\\\\\\\\\": 0, \\\\\\\\\\\\\"skipRowsMode\\\\\\\\\\\\\": 0}, \\\\\\\\\\\\\"localData\\\\\\\\\\\\\": {}, \\\\\\\\\\\\\"isEnabled\\\\\\\\\\\\\": true, \\\\\\\\\\\\\"name\\\\\\\\\\\\\": null, \\\\\\\\\\\\\"annotation\\\\\\\\\\\\\": null}, {\\\\\\\\\\\\\"id\\\\\\\\\\\\\": \\\\\\\\\\\\\"d684bf5e-bd83-4240-baa0-9efeb4c4037a\\\\\\\\\\\\\", \\\\\\\\\\\\\"type\\\\\\\\\\\\\": \\\\\\\\\\\\\"Microsoft.DPrep.DropColumnsBlock\\\\\\\\\\\\\", \\\\\\\\\\\\\"arguments\\\\\\\\\\\\\": {\\\\\\\\\\\\\"columns\\\\\\\\\\\\\": {\\\\\\\\\\\\\"type\\\\\\\\\\\\\": 0, \\\\\\\\\\\\\"details\\\\\\\\\\\\\": {\\\\\\\\\\\\\"selectedColumns\\\\\\\\\\\\\": [\\\\\\\\\\\\\"Path\\\\\\\\\\\\\"]}}}, \\\\\\\\\\\\\"localData\\\\\\\\\\\\\": {}, \\\\\\\\\\\\\"isEnabled\\\\\\\\\\\\\": true, \\\\\\\\\\\\\"name\\\\\\\\\\\\\": null, \\\\\\\\\\\\\"annotation\\\\\\\\\\\\\": null}, {\\\\\\\\\\\\\"id\\\\\\\\\\\\\": \\\\\\\\\\\\\"66564521-d1cc-4243-8849-a1aec11b192b\\\\\\\\\\\\\", \\\\\\\\\\\\\"type\\\\\\\\\\\\\": \\\\\\\\\\\\\"Microsoft.DPrep.SetColumnTypesBlock\\\\\\\\\\\\\", \\\\\\\\\\\\\"arguments\\\\\\\\\\\\\": {\\\\\\\\\\\\\"columnConversion\\\\\\\\\\\\\": [{\\\\\\\\\\\\\"column\\\\\\\\\\\\\": {\\\\\\\\\\\\\"type\\\\\\\\\\\\\": 2, \\\\\\\\\\\\\"details\\\\\\\\\\\\\": {\\\\\\\\\\\\\"selectedColumn\\\\\\\\\\\\\": \\\\\\\\\\\\\"Pregnancies\\\\\\\\\\\\\"}}, \\\\\\\\\\\\\"typeProperty\\\\\\\\\\\\\": 2}, {\\\\\\\\\\\\\"column\\\\\\\\\\\\\": {\\\\\\\\\\\\\"type\\\\\\\\\\\\\": 2, \\\\\\\\\\\\\"details\\\\\\\\\\\\\": {\\\\\\\\\\\\\"selectedColumn\\\\\\\\\\\\\": \\\\\\\\\\\\\"Glucose\\\\\\\\\\\\\"}}, \\\\\\\\\\\\\"typeProperty\\\\\\\\\\\\\": 2}, {\\\\\\\\\\\\\"column\\\\\\\\\\\\\": {\\\\\\\\\\\\\"type\\\\\\\\\\\\\": 2, \\\\\\\\\\\\\"details\\\\\\\\\\\\\": {\\\\\\\\\\\\\"selectedColumn\\\\\\\\\\\\\": \\\\\\\\\\\\\"BloodPressure\\\\\\\\\\\\\"}}, \\\\\\\\\\\\\"typeProperty\\\\\\\\\\\\\": 2}, {\\\\\\\\\\\\\"column\\\\\\\\\\\\\": {\\\\\\\\\\\\\"type\\\\\\\\\\\\\": 2, \\\\\\\\\\\\\"details\\\\\\\\\\\\\": {\\\\\\\\\\\\\"selectedColumn\\\\\\\\\\\\\": \\\\\\\\\\\\\"SkinThickness\\\\\\\\\\\\\"}}, \\\\\\\\\\\\\"typeProperty\\\\\\\\\\\\\": 2}, {\\\\\\\\\\\\\"column\\\\\\\\\\\\\": {\\\\\\\\\\\\\"type\\\\\\\\\\\\\": 2, \\\\\\\\\\\\\"details\\\\\\\\\\\\\": {\\\\\\\\\\\\\"selectedColumn\\\\\\\\\\\\\": \\\\\\\\\\\\\"Insulin\\\\\\\\\\\\\"}}, \\\\\\\\\\\\\"typeProperty\\\\\\\\\\\\\": 2}, {\\\\\\\\\\\\\"column\\\\\\\\\\\\\": {\\\\\\\\\\\\\"type\\\\\\\\\\\\\": 2, \\\\\\\\\\\\\"details\\\\\\\\\\\\\": {\\\\\\\\\\\\\"selectedColumn\\\\\\\\\\\\\": \\\\\\\\\\\\\"BMI\\\\\\\\\\\\\"}}, \\\\\\\\\\\\\"typeProperty\\\\\\\\\\\\\": 3}, {\\\\\\\\\\\\\"column\\\\\\\\\\\\\": {\\\\\\\\\\\\\"type\\\\\\\\\\\\\": 2, \\\\\\\\\\\\\"details\\\\\\\\\\\\\": {\\\\\\\\\\\\\"selectedColumn\\\\\\\\\\\\\": \\\\\\\\\\\\\"DiabetesPedigreeFunction\\\\\\\\\\\\\"}}, \\\\\\\\\\\\\"typeProperty\\\\\\\\\\\\\": 3}, {\\\\\\\\\\\\\"column\\\\\\\\\\\\\": {\\\\\\\\\\\\\"type\\\\\\\\\\\\\": 2, \\\\\\\\\\\\\"details\\\\\\\\\\\\\": {\\\\\\\\\\\\\"selectedColumn\\\\\\\\\\\\\": \\\\\\\\\\\\\"Age\\\\\\\\\\\\\"}}, \\\\\\\\\\\\\"typeProperty\\\\\\\\\\\\\": 2}, {\\\\\\\\\\\\\"column\\\\\\\\\\\\\": {\\\\\\\\\\\\\"type\\\\\\\\\\\\\": 2, \\\\\\\\\\\\\"details\\\\\\\\\\\\\": {\\\\\\\\\\\\\"selectedColumn\\\\\\\\\\\\\": \\\\\\\\\\\\\"Outcome\\\\\\\\\\\\\"}}, \\\\\\\\\\\\\"typeProperty\\\\\\\\\\\\\": 2}]}, \\\\\\\\\\\\\"localData\\\\\\\\\\\\\": {}, \\\\\\\\\\\\\"isEnabled\\\\\\\\\\\\\": true, \\\\\\\\\\\\\"name\\\\\\\\\\\\\": null, \\\\\\\\\\\\\"annotation\\\\\\\\\\\\\": null}], \\\\\\\\\\\\\"inspectors\\\\\\\\\\\\\": [], \\\\\\\\\\\\\"meta\\\\\\\\\\\\\": {\\\\\\\\\\\\\"savedDatasetId\\\\\\\\\\\\\": \\\\\\\\\\\\\"91004c4b-17bd-457e-be0e-50b2d159b928\\\\\\\\\\\\\", \\\\\\\\\\\\\"datasetType\\\\\\\\\\\\\": \\\\\\\\\\\\\"tabular\\\\\\\\\\\\\", \\\\\\\\\\\\\"subscriptionId\\\\\\\\\\\\\": \\\\\\\\\\\\\"6971f5ac-8af1-446e-8034-05acea24681f\\\\\\\\\\\\\", \\\\\\\\\\\\\"workspaceId\\\\\\\\\\\\\": \\\\\\\\\\\\\"5be377ac-bae5-4256-bfe9-18e494cfd2d7\\\\\\\\\\\\\", \\\\\\\\\\\\\"workspaceLocation\\\\\\\\\\\\\": \\\\\\\\\\\\\"southcentralus\\\\\\\\\\\\\"}}\\\\\", \\\\\"activities\\\\\": 0}',\n",
       "  'EnableSubsampling': 'False',\n",
       "  'runTemplate': 'AutoML',\n",
       "  'azureml.runsource': 'automl',\n",
       "  'display_task_type': 'classification',\n",
       "  'dependencies_versions': '{\"azureml-widgets\": \"1.20.0\", \"azureml-train\": \"1.20.0\", \"azureml-train-restclients-hyperdrive\": \"1.20.0\", \"azureml-train-core\": \"1.20.0\", \"azureml-train-automl\": \"1.20.0\", \"azureml-train-automl-runtime\": \"1.20.0\", \"azureml-train-automl-client\": \"1.20.0\", \"azureml-tensorboard\": \"1.20.0\", \"azureml-telemetry\": \"1.20.0\", \"azureml-sdk\": \"1.20.0\", \"azureml-samples\": \"0+unknown\", \"azureml-pipeline\": \"1.20.0\", \"azureml-pipeline-steps\": \"1.20.0\", \"azureml-pipeline-core\": \"1.20.0\", \"azureml-opendatasets\": \"1.20.0\", \"azureml-model-management-sdk\": \"1.0.1b6.post1\", \"azureml-mlflow\": \"1.20.0.post1\", \"azureml-interpret\": \"1.20.0\", \"azureml-explain-model\": \"1.20.0\", \"azureml-defaults\": \"1.20.0\", \"azureml-dataset-runtime\": \"1.20.0\", \"azureml-dataprep\": \"2.7.3\", \"azureml-dataprep-rslex\": \"1.5.0\", \"azureml-dataprep-native\": \"27.0.0\", \"azureml-datadrift\": \"1.20.0\", \"azureml-core\": \"1.20.0\", \"azureml-contrib-services\": \"1.20.0\", \"azureml-contrib-server\": \"1.20.0\", \"azureml-contrib-reinforcementlearning\": \"1.20.0\", \"azureml-contrib-pipeline-steps\": \"1.20.0\", \"azureml-contrib-notebook\": \"1.20.0\", \"azureml-contrib-interpret\": \"1.20.0\", \"azureml-contrib-gbdt\": \"1.20.0\", \"azureml-contrib-fairness\": \"1.20.0\", \"azureml-contrib-dataset\": \"1.20.0\", \"azureml-cli-common\": \"1.20.0\", \"azureml-automl-runtime\": \"1.20.0\", \"azureml-automl-core\": \"1.20.0\", \"azureml-accel-models\": \"1.20.0\"}',\n",
       "  '_aml_system_scenario_identification': 'Remote.Parent',\n",
       "  'ClientType': 'SDK',\n",
       "  'environment_cpu_name': 'AzureML-AutoML',\n",
       "  'environment_cpu_label': 'prod',\n",
       "  'environment_gpu_name': 'AzureML-AutoML-GPU',\n",
       "  'environment_gpu_label': 'prod',\n",
       "  'root_attribution': 'automl',\n",
       "  'attribution': 'AutoML',\n",
       "  'Orchestrator': 'AutoML',\n",
       "  'CancelUri': 'https://southcentralus.experiments.azureml.net/jasmine/v1.0/subscriptions/6971f5ac-8af1-446e-8034-05acea24681f/resourceGroups/aml-quickstarts-136488/providers/Microsoft.MachineLearningServices/workspaces/quick-starts-ws-136488/experimentids/65307dac-e615-4ad3-9984-290dee5ac14a/cancel/AutoML_9186d3a5-e6bc-4493-ad50-2f539a39fd72',\n",
       "  'ClientSdkVersion': '1.20.0.post1',\n",
       "  'snapshotId': '00000000-0000-0000-0000-000000000000',\n",
       "  'SetupRunId': 'AutoML_9186d3a5-e6bc-4493-ad50-2f539a39fd72_setup',\n",
       "  'SetupRunContainerId': 'dcid.AutoML_9186d3a5-e6bc-4493-ad50-2f539a39fd72_setup',\n",
       "  'FeaturizationRunJsonPath': 'featurizer_container.json',\n",
       "  'FeaturizationRunId': 'AutoML_9186d3a5-e6bc-4493-ad50-2f539a39fd72_featurize',\n",
       "  'ProblemInfoJsonString': '{\"dataset_num_categorical\": 0, \"is_sparse\": true, \"subsampling\": false, \"dataset_classes\": 2, \"dataset_features\": 24, \"dataset_samples\": 768, \"single_frequency_class_detected\": false}',\n",
       "  'ModelExplainRunId': 'AutoML_9186d3a5-e6bc-4493-ad50-2f539a39fd72_ModelExplain'},\n",
       " 'inputDatasets': [{'dataset': {'id': '91004c4b-17bd-457e-be0e-50b2d159b928'}, 'consumptionDetails': {'type': 'RunInput', 'inputName': 'training_data', 'mechanism': 'Direct'}}],\n",
       " 'outputDatasets': [],\n",
       " 'logFiles': {},\n",
       " 'submittedBy': 'ODL_User 136488'}"
      ]
     },
     "execution_count": 11,
     "metadata": {},
     "output_type": "execute_result"
    }
   ],
   "source": [
    "remote_run.wait_for_completion(show_output=True)"
   ]
  },
  {
   "cell_type": "code",
   "execution_count": 12,
   "metadata": {},
   "outputs": [],
   "source": [
    "bestrun,model=remote_run.get_output()\n"
   ]
  },
  {
   "cell_type": "code",
   "execution_count": 13,
   "metadata": {},
   "outputs": [
    {
     "data": {
      "text/html": [
       "<table style=\"width:100%\"><tr><th>Experiment</th><th>Id</th><th>Type</th><th>Status</th><th>Details Page</th><th>Docs Page</th></tr><tr><td>automl-Diabetes</td><td>AutoML_9186d3a5-e6bc-4493-ad50-2f539a39fd72_18</td><td>azureml.scriptrun</td><td>Completed</td><td><a href=\"https://ml.azure.com/experiments/automl-Diabetes/runs/AutoML_9186d3a5-e6bc-4493-ad50-2f539a39fd72_18?wsid=/subscriptions/6971f5ac-8af1-446e-8034-05acea24681f/resourcegroups/aml-quickstarts-136488/workspaces/quick-starts-ws-136488\" target=\"_blank\" rel=\"noopener\">Link to Azure Machine Learning studio</a></td><td><a href=\"https://docs.microsoft.com/en-us/python/api/azureml-core/azureml.core.run.Run?view=azure-ml-py\" target=\"_blank\" rel=\"noopener\">Link to Documentation</a></td></tr></table>"
      ],
      "text/plain": [
       "Run(Experiment: automl-Diabetes,\n",
       "Id: AutoML_9186d3a5-e6bc-4493-ad50-2f539a39fd72_18,\n",
       "Type: azureml.scriptrun,\n",
       "Status: Completed)"
      ]
     },
     "execution_count": 13,
     "metadata": {},
     "output_type": "execute_result"
    }
   ],
   "source": [
    "bestrun"
   ]
  },
  {
   "cell_type": "code",
   "execution_count": 14,
   "metadata": {},
   "outputs": [
    {
     "data": {
      "text/plain": [
       "Pipeline(memory=None,\n",
       "         steps=[('datatransformer',\n",
       "                 DataTransformer(enable_dnn=None, enable_feature_sweeping=None,\n",
       "                                 feature_sweeping_config=None,\n",
       "                                 feature_sweeping_timeout=None,\n",
       "                                 featurization_config=None, force_text_dnn=None,\n",
       "                                 is_cross_validation=None,\n",
       "                                 is_onnx_compatible=None, logger=None,\n",
       "                                 observer=None, task=None, working_dir=None)),\n",
       "                ('prefittedsoftvotingclassifier',...\n",
       "                                                                                               reg_lambda=0.7291666666666667,\n",
       "                                                                                               scale_pos_weight=1,\n",
       "                                                                                               seed=None,\n",
       "                                                                                               silent=None,\n",
       "                                                                                               subsample=0.9,\n",
       "                                                                                               tree_method='auto',\n",
       "                                                                                               verbose=-10,\n",
       "                                                                                               verbosity=0))],\n",
       "                                                                     verbose=False))],\n",
       "                                               flatten_transform=None,\n",
       "                                               weights=[0.07142857142857142,\n",
       "                                                        0.07142857142857142,\n",
       "                                                        0.21428571428571427,\n",
       "                                                        0.14285714285714285,\n",
       "                                                        0.14285714285714285,\n",
       "                                                        0.07142857142857142,\n",
       "                                                        0.14285714285714285,\n",
       "                                                        0.07142857142857142,\n",
       "                                                        0.07142857142857142]))],\n",
       "         verbose=False)"
      ]
     },
     "execution_count": 14,
     "metadata": {},
     "output_type": "execute_result"
    }
   ],
   "source": [
    "model"
   ]
  },
  {
   "cell_type": "code",
   "execution_count": 15,
   "metadata": {},
   "outputs": [
    {
     "data": {
      "text/plain": [
       "'AutoML9186d3a5e18'"
      ]
     },
     "execution_count": 15,
     "metadata": {},
     "output_type": "execute_result"
    }
   ],
   "source": [
    "import joblib\n",
    "os.makedirs('./outputs', exist_ok=True)\n",
    "\n",
    "joblib.dump(model, filename='outputs/automl_model.joblib')\n",
    "\n",
    "model_name = bestrun.properties['model_name']\n",
    "model_name\n"
   ]
  },
  {
   "cell_type": "code",
   "execution_count": 19,
   "metadata": {},
   "outputs": [],
   "source": [
    "env = bestrun.get_environment().save_to_directory(path='environments')\n",
    "\n",
    "script_file = 'score.py'\n",
    "\n",
    "bestrun.download_file('outputs/scoring_file_v_1_0_0.py', script_file)"
   ]
  },
  {
   "cell_type": "markdown",
   "metadata": {},
   "source": [
    "# Registering the Model"
   ]
  },
  {
   "cell_type": "code",
   "execution_count": 17,
   "metadata": {},
   "outputs": [
    {
     "data": {
      "text/plain": [
       "'AutoML9186d3a5e18:1'"
      ]
     },
     "execution_count": 17,
     "metadata": {},
     "output_type": "execute_result"
    }
   ],
   "source": [
    "model = remote_run.register_model(model_name = model_name,\n",
    "                                  description = 'AutoML model')\n",
    "model.id\n"
   ]
  },
  {
   "cell_type": "markdown",
   "metadata": {},
   "source": [
    "# Setting Inferecne Config and ACi CONFIG"
   ]
  },
  {
   "cell_type": "code",
   "execution_count": 20,
   "metadata": {},
   "outputs": [
    {
     "name": "stdout",
     "output_type": "stream",
     "text": [
      "automl-diabetes\n"
     ]
    }
   ],
   "source": [
    "inference_config = InferenceConfig(entry_script = script_file, environment = env)\n",
    "\n",
    "aci_config = AciWebservice.deploy_configuration(cpu_cores = 1, memory_gb = 1)\n",
    "\n",
    "aci_service_name = 'automl-diabetes'\n",
    "print(aci_service_name)"
   ]
  },
  {
   "cell_type": "code",
   "execution_count": 21,
   "metadata": {},
   "outputs": [
    {
     "name": "stdout",
     "output_type": "stream",
     "text": [
      "Tips: You can try get_logs(): https://aka.ms/debugimage#dockerlog or local deployment: https://aka.ms/debugimage#debug-locally to debug if deployment takes longer than 10 minutes.\n",
      "Running..................................................\n",
      "Succeeded\n",
      "ACI service creation operation finished, operation \"Succeeded\"\n",
      "State: Healthy\n",
      "Scoring URI: http://4e6f478c-8289-4be1-8e9f-1d827a634800.southcentralus.azurecontainer.io/score\n"
     ]
    }
   ],
   "source": [
    "service = Model.deploy(ws, aci_service_name, [model], inference_config, aci_config)\n",
    "service.wait_for_deployment(True)\n",
    "print(\"State: \" + service.state)\n",
    "print(\"Scoring URI: \" + service.scoring_uri)"
   ]
  },
  {
   "cell_type": "markdown",
   "metadata": {},
   "source": [
    "# The Endpoint"
   ]
  },
  {
   "cell_type": "code",
   "execution_count": 22,
   "metadata": {},
   "outputs": [
    {
     "name": "stdout",
     "output_type": "stream",
     "text": [
      "{\"result\": [1, 1]}\n"
     ]
    }
   ],
   "source": [
    "import requests\n",
    "import json\n",
    "scoring_uri='http://4e6f478c-8289-4be1-8e9f-1d827a634800.southcentralus.azurecontainer.io/score'\n",
    "\n",
    "data = {\"data\":\n",
    "        [\n",
    "          {\n",
    "            \"Pregnancies\": 5,\n",
    "            \"Glucose\": 155,\n",
    "            \"BloodPressure\": 90,\n",
    "            \"SkinThickness\": 35,\n",
    "            \"Insulin\": 135,\n",
    "            \"BMI\": 36.6,\n",
    "            \"DiabetesPedigreeFunction\": 0.7,\n",
    "            \"Age\": 55,\n",
    "                      },\n",
    "          {\n",
    "            \"Pregnancies\": 3,\n",
    "            \"Glucose\": 145,\n",
    "            \"BloodPressure\": 95,\n",
    "            \"SkinThickness\": 32,\n",
    "            \"Insulin\": 155,\n",
    "            \"BMI\": 34.3,\n",
    "            \"DiabetesPedigreeFunction\": 0.625,\n",
    "            \"Age\": 65,\n",
    "          },\n",
    "      ]\n",
    "    }\n",
    "input_data = json.dumps(data)\n",
    "with open(\"data.json\", \"w\") as _f:\n",
    "    _f.write(input_data)\n",
    "\n",
    "# Set the content type\n",
    "headers = {'Content-Type': 'application/json'}\n",
    "\n",
    "# Make the request and display the response\n",
    "resp = requests.post(scoring_uri, input_data, headers=headers)\n",
    "print(resp.json())\n"
   ]
  },
  {
   "cell_type": "code",
   "execution_count": 25,
   "metadata": {},
   "outputs": [],
   "source": [
    "df_test=df[720:730]"
   ]
  },
  {
   "cell_type": "code",
   "execution_count": 26,
   "metadata": {},
   "outputs": [
    {
     "data": {
      "text/html": [
       "<div>\n",
       "<style scoped>\n",
       "    .dataframe tbody tr th:only-of-type {\n",
       "        vertical-align: middle;\n",
       "    }\n",
       "\n",
       "    .dataframe tbody tr th {\n",
       "        vertical-align: top;\n",
       "    }\n",
       "\n",
       "    .dataframe thead th {\n",
       "        text-align: right;\n",
       "    }\n",
       "</style>\n",
       "<table border=\"1\" class=\"dataframe\">\n",
       "  <thead>\n",
       "    <tr style=\"text-align: right;\">\n",
       "      <th></th>\n",
       "      <th>Pregnancies</th>\n",
       "      <th>Glucose</th>\n",
       "      <th>BloodPressure</th>\n",
       "      <th>SkinThickness</th>\n",
       "      <th>Insulin</th>\n",
       "      <th>BMI</th>\n",
       "      <th>DiabetesPedigreeFunction</th>\n",
       "      <th>Age</th>\n",
       "      <th>Outcome</th>\n",
       "    </tr>\n",
       "  </thead>\n",
       "  <tbody>\n",
       "    <tr>\n",
       "      <th>720</th>\n",
       "      <td>4</td>\n",
       "      <td>83</td>\n",
       "      <td>86</td>\n",
       "      <td>19</td>\n",
       "      <td>0</td>\n",
       "      <td>29.30</td>\n",
       "      <td>0.32</td>\n",
       "      <td>34</td>\n",
       "      <td>0</td>\n",
       "    </tr>\n",
       "    <tr>\n",
       "      <th>721</th>\n",
       "      <td>1</td>\n",
       "      <td>114</td>\n",
       "      <td>66</td>\n",
       "      <td>36</td>\n",
       "      <td>200</td>\n",
       "      <td>38.10</td>\n",
       "      <td>0.29</td>\n",
       "      <td>21</td>\n",
       "      <td>0</td>\n",
       "    </tr>\n",
       "    <tr>\n",
       "      <th>722</th>\n",
       "      <td>1</td>\n",
       "      <td>149</td>\n",
       "      <td>68</td>\n",
       "      <td>29</td>\n",
       "      <td>127</td>\n",
       "      <td>29.30</td>\n",
       "      <td>0.35</td>\n",
       "      <td>42</td>\n",
       "      <td>1</td>\n",
       "    </tr>\n",
       "    <tr>\n",
       "      <th>723</th>\n",
       "      <td>5</td>\n",
       "      <td>117</td>\n",
       "      <td>86</td>\n",
       "      <td>30</td>\n",
       "      <td>105</td>\n",
       "      <td>39.10</td>\n",
       "      <td>0.25</td>\n",
       "      <td>42</td>\n",
       "      <td>0</td>\n",
       "    </tr>\n",
       "    <tr>\n",
       "      <th>724</th>\n",
       "      <td>1</td>\n",
       "      <td>111</td>\n",
       "      <td>94</td>\n",
       "      <td>0</td>\n",
       "      <td>0</td>\n",
       "      <td>32.80</td>\n",
       "      <td>0.27</td>\n",
       "      <td>45</td>\n",
       "      <td>0</td>\n",
       "    </tr>\n",
       "  </tbody>\n",
       "</table>\n",
       "</div>"
      ],
      "text/plain": [
       "     Pregnancies  Glucose  BloodPressure  SkinThickness  Insulin   BMI  \\\n",
       "720            4       83             86             19        0 29.30   \n",
       "721            1      114             66             36      200 38.10   \n",
       "722            1      149             68             29      127 29.30   \n",
       "723            5      117             86             30      105 39.10   \n",
       "724            1      111             94              0        0 32.80   \n",
       "\n",
       "     DiabetesPedigreeFunction  Age  Outcome  \n",
       "720                      0.32   34        0  \n",
       "721                      0.29   21        0  \n",
       "722                      0.35   42        1  \n",
       "723                      0.25   42        0  \n",
       "724                      0.27   45        0  "
      ]
     },
     "execution_count": 26,
     "metadata": {},
     "output_type": "execute_result"
    }
   ],
   "source": [
    "df_test.head()"
   ]
  },
  {
   "cell_type": "code",
   "execution_count": 27,
   "metadata": {},
   "outputs": [],
   "source": [
    "y_true=df_test.pop('Outcome')\n"
   ]
  },
  {
   "cell_type": "code",
   "execution_count": 28,
   "metadata": {},
   "outputs": [],
   "source": [
    "swagger_json = json.dumps({'data':df_test.to_dict(orient='records')})"
   ]
  },
  {
   "cell_type": "code",
   "execution_count": 29,
   "metadata": {},
   "outputs": [
    {
     "data": {
      "text/plain": [
       "'{\"data\": [{\"Pregnancies\": 4, \"Glucose\": 83, \"BloodPressure\": 86, \"SkinThickness\": 19, \"Insulin\": 0, \"BMI\": 29.3, \"DiabetesPedigreeFunction\": 0.317, \"Age\": 34}, {\"Pregnancies\": 1, \"Glucose\": 114, \"BloodPressure\": 66, \"SkinThickness\": 36, \"Insulin\": 200, \"BMI\": 38.1, \"DiabetesPedigreeFunction\": 0.289, \"Age\": 21}, {\"Pregnancies\": 1, \"Glucose\": 149, \"BloodPressure\": 68, \"SkinThickness\": 29, \"Insulin\": 127, \"BMI\": 29.3, \"DiabetesPedigreeFunction\": 0.349, \"Age\": 42}, {\"Pregnancies\": 5, \"Glucose\": 117, \"BloodPressure\": 86, \"SkinThickness\": 30, \"Insulin\": 105, \"BMI\": 39.1, \"DiabetesPedigreeFunction\": 0.251, \"Age\": 42}, {\"Pregnancies\": 1, \"Glucose\": 111, \"BloodPressure\": 94, \"SkinThickness\": 0, \"Insulin\": 0, \"BMI\": 32.8, \"DiabetesPedigreeFunction\": 0.265, \"Age\": 45}, {\"Pregnancies\": 4, \"Glucose\": 112, \"BloodPressure\": 78, \"SkinThickness\": 40, \"Insulin\": 0, \"BMI\": 39.4, \"DiabetesPedigreeFunction\": 0.236, \"Age\": 38}, {\"Pregnancies\": 1, \"Glucose\": 116, \"BloodPressure\": 78, \"SkinThickness\": 29, \"Insulin\": 180, \"BMI\": 36.1, \"DiabetesPedigreeFunction\": 0.496, \"Age\": 25}, {\"Pregnancies\": 0, \"Glucose\": 141, \"BloodPressure\": 84, \"SkinThickness\": 26, \"Insulin\": 0, \"BMI\": 32.4, \"DiabetesPedigreeFunction\": 0.433, \"Age\": 22}, {\"Pregnancies\": 2, \"Glucose\": 175, \"BloodPressure\": 88, \"SkinThickness\": 0, \"Insulin\": 0, \"BMI\": 22.9, \"DiabetesPedigreeFunction\": 0.326, \"Age\": 22}, {\"Pregnancies\": 2, \"Glucose\": 92, \"BloodPressure\": 52, \"SkinThickness\": 0, \"Insulin\": 0, \"BMI\": 30.1, \"DiabetesPedigreeFunction\": 0.141, \"Age\": 22}]}'"
      ]
     },
     "execution_count": 29,
     "metadata": {},
     "output_type": "execute_result"
    }
   ],
   "source": [
    "swagger_json"
   ]
  },
  {
   "cell_type": "code",
   "execution_count": 30,
   "metadata": {},
   "outputs": [],
   "source": [
    "output = service.run(swagger_json)"
   ]
  },
  {
   "cell_type": "code",
   "execution_count": 31,
   "metadata": {},
   "outputs": [
    {
     "data": {
      "text/plain": [
       "'{\"result\": [0, 0, 1, 0, 0, 0, 0, 0, 0, 0]}'"
      ]
     },
     "execution_count": 31,
     "metadata": {},
     "output_type": "execute_result"
    }
   ],
   "source": [
    "output"
   ]
  },
  {
   "cell_type": "code",
   "execution_count": 32,
   "metadata": {},
   "outputs": [
    {
     "name": "stdout",
     "output_type": "stream",
     "text": [
      "Predicted Values are : {\"result\": [0, 0, 1, 0, 0, 0, 0, 0, 0, 0]}\n",
      "True Values are: [0 0 1 0 0 0 0 0 0 0]\n"
     ]
    }
   ],
   "source": [
    "print(\"Predicted Values are :\", output)\n",
    "print(\"True Values are:\",y_true.values)"
   ]
  },
  {
   "cell_type": "markdown",
   "metadata": {},
   "source": [
    "# Application Insights"
   ]
  },
  {
   "cell_type": "code",
   "execution_count": 33,
   "metadata": {},
   "outputs": [
    {
     "data": {
      "text/plain": [
       "'2021-01-29T09:46:41,483436700+00:00 - gunicorn/run \\n2021-01-29T09:46:41,496154100+00:00 - rsyslog/run \\n2021-01-29T09:46:41,501227800+00:00 - iot-server/run \\nrsyslogd: /azureml-envs/azureml_265db83b0c6014ce472c5de2f0b97e04/lib/libuuid.so.1: no version information available (required by rsyslogd)\\n2021-01-29T09:46:41,531236100+00:00 - nginx/run \\n/usr/sbin/nginx: /azureml-envs/azureml_265db83b0c6014ce472c5de2f0b97e04/lib/libcrypto.so.1.0.0: no version information available (required by /usr/sbin/nginx)\\n/usr/sbin/nginx: /azureml-envs/azureml_265db83b0c6014ce472c5de2f0b97e04/lib/libcrypto.so.1.0.0: no version information available (required by /usr/sbin/nginx)\\n/usr/sbin/nginx: /azureml-envs/azureml_265db83b0c6014ce472c5de2f0b97e04/lib/libssl.so.1.0.0: no version information available (required by /usr/sbin/nginx)\\n/usr/sbin/nginx: /azureml-envs/azureml_265db83b0c6014ce472c5de2f0b97e04/lib/libssl.so.1.0.0: no version information available (required by /usr/sbin/nginx)\\n/usr/sbin/nginx: /azureml-envs/azureml_265db83b0c6014ce472c5de2f0b97e04/lib/libssl.so.1.0.0: no version information available (required by /usr/sbin/nginx)\\nEdgeHubConnectionString and IOTEDGE_IOTHUBHOSTNAME are not set. Exiting...\\n2021-01-29T09:46:42,923064700+00:00 - iot-server/finish 1 0\\n2021-01-29T09:46:42,947881300+00:00 - Exit code 1 is normal. Not restarting iot-server.\\nStarting gunicorn 19.9.0\\nListening at: http://127.0.0.1:31311 (67)\\nUsing worker: sync\\nworker timeout is set to 300\\nBooting worker with pid: 98\\nSPARK_HOME not set. Skipping PySpark Initialization.\\nGenerating new fontManager, this may take some time...\\nInitializing logger\\n2021-01-29 09:46:48,747 | root | INFO | Starting up app insights client\\n2021-01-29 09:46:48,748 | root | INFO | Starting up request id generator\\n2021-01-29 09:46:48,750 | root | INFO | Starting up app insight hooks\\n2021-01-29 09:46:48,750 | root | INFO | Invoking user\\'s init function\\n2021-01-29 09:47:00,763 | azureml.core | WARNING | Failure while loading azureml_run_type_providers. Failed to load entrypoint automl = azureml.train.automl.run:AutoMLRun._from_run_dto with exception cannot import name \\'RunType\\'.\\nFailure while loading azureml_run_type_providers. Failed to load entrypoint automl = azureml.train.automl.run:AutoMLRun._from_run_dto with exception cannot import name \\'RunType\\'.\\n2021-01-29 09:47:01,714 | root | INFO | Users\\'s init has completed successfully\\n2021-01-29 09:47:01,783 | root | INFO | Skipping middleware: dbg_model_info as it\\'s not enabled.\\n2021-01-29 09:47:01,786 | root | INFO | Skipping middleware: dbg_resource_usage as it\\'s not enabled.\\n2021-01-29 09:47:01,807 | root | INFO | Scoring timeout is found from os.environ: 60000 ms\\n2021-01-29 09:47:01,833 | root | INFO | 200\\n127.0.0.1 - - [29/Jan/2021:09:47:01 +0000] \"GET /swagger.json HTTP/1.0\" 200 2540 \"-\" \"Go-http-client/1.1\"\\n2021-01-29 09:47:02,967 | root | INFO | 200\\n127.0.0.1 - - [29/Jan/2021:09:47:02 +0000] \"GET /swagger.json HTTP/1.0\" 200 2540 \"-\" \"Go-http-client/1.1\"\\n2021-01-29 09:49:11,040 | root | INFO | Validation Request Content-Type\\n2021-01-29 09:49:11,041 | root | INFO | Scoring Timer is set to 60.0 seconds\\n2021-01-29 09:49:11,377 | root | INFO | 200\\n127.0.0.1 - - [29/Jan/2021:09:49:11 +0000] \"POST /score HTTP/1.0\" 200 22 \"-\" \"python-requests/2.25.1\"\\n2021-01-29 09:51:08,747 | root | INFO | Validation Request Content-Type\\n2021-01-29 09:51:08,748 | root | INFO | Scoring Timer is set to 60.0 seconds\\n2021-01-29 09:51:09,116 | root | INFO | 200\\n127.0.0.1 - - [29/Jan/2021:09:51:09 +0000] \"POST /score HTTP/1.0\" 200 46 \"-\" \"python-requests/2.25.1\"\\n'"
      ]
     },
     "execution_count": 33,
     "metadata": {},
     "output_type": "execute_result"
    }
   ],
   "source": [
    "service.get_logs()\n"
   ]
  },
  {
   "cell_type": "code",
   "execution_count": 34,
   "metadata": {},
   "outputs": [],
   "source": [
    "service.delete()\n"
   ]
  }
 ],
 "metadata": {
  "kernelspec": {
   "display_name": "Python 3",
   "language": "python",
   "name": "python3"
  },
  "language_info": {
   "codemirror_mode": {
    "name": "ipython",
    "version": 3
   },
   "file_extension": ".py",
   "mimetype": "text/x-python",
   "name": "python",
   "nbconvert_exporter": "python",
   "pygments_lexer": "ipython3",
   "version": "3.6.9"
  }
 },
 "nbformat": 4,
 "nbformat_minor": 4
}
